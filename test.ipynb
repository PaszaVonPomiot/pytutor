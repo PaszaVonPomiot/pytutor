{
    "cells": [
        {
            "cell_type": "code",
            "execution_count": null,
            "metadata": {},
            "outputs": [],
            "source": [
                "# metodę klasy zmienić na atrybut?\n",
                "class Celsius:\n",
                "    def __init__(self, temperature):\n",
                "        self.set_temperature(temperature)\n",
                "    \n",
                "    def to_farenheit(self):\n",
                "        return (self._temperature * 1.8) + 32\n",
                "\n",
                "    def get_temperature(self):\n",
                "        return self._temperature\n",
                "\n",
                "    def set_temperature(self, temp):\n",
                "        if temp < -273:\n",
                "            raise ValueError('temperature not possible')\n",
                "        self._temperature=temp\n",
                "\n",
                "    temperature = property(get_temperature, set_temperature)\n",
                "\n",
                "t = Celsius(21)\n",
                "t.set_temperature(333)\n",
                "# print(t.to_farenheit())\n",
                "# print(t.__dict__)\n",
                "t.temperature = 444\n"
            ]
        },
        {
            "cell_type": "code",
            "execution_count": 5,
            "metadata": {},
            "outputs": [
                {
                    "name": "stdout",
                    "output_type": "stream",
                    "text": [
                        "444\n"
                    ]
                }
            ],
            "source": [
                "def prop(func):\n",
                "    def wrapper(self):\n",
                "        self.temp = func()\n",
                "        print(self.temp)\n",
                "    return wrapper\n",
                "\n",
                "\n",
                "class Dupa:\n",
                "    def __init__(self, test):\n",
                "        self._x = test\n",
                "        print(self._x)\n",
                "    \n",
                "    \n",
                "    def temp(self):\n",
                "        return self.temp\n",
                "\n",
                "    @prop\n",
                "    def temp2(self):\n",
                "        return self.temp\n",
                "\n",
                "    test = 4\n",
                "\n",
                "\n",
                "d = Dupa(444)\n",
                "# d.__dict__[\"get_temp\"]= d.temp\n",
                "# d.temp2\n",
                "\n",
                "\n",
                "\n",
                "\n",
                "\n"
            ]
        },
        {
            "cell_type": "code",
            "execution_count": 3,
            "metadata": {},
            "outputs": [
                {
                    "data": {
                        "text/plain": [
                            "2"
                        ]
                    },
                    "execution_count": 3,
                    "metadata": {},
                    "output_type": "execute_result"
                }
            ],
            "source": [
                "class Pupa:\n",
                "    def __init__(self):\n",
                "        self._x = None\n",
                "    \n",
                "    def getx(self):\n",
                "        return self._x\n",
                "\n",
                "    def setx(self, value):\n",
                "        self._x = value\n",
                "    \n",
                "    def delx(self):\n",
                "        del self._x\n",
                "\n",
                "    x = property(getx, setx, delx)\n",
                "\n",
                "p = Pupa()\n",
                "p.x = 2\n",
                "p.x"
            ]
        },
        {
            "cell_type": "code",
            "execution_count": null,
            "metadata": {},
            "outputs": [],
            "source": [
                "def uppercase(func):\n",
                "    def wrapper():\n",
                "        original_result = func()\n",
                "        modified_result = original_result.upper()\n",
                "        return modified_result\n",
                "\n",
                "    return wrapper  # returns function"
            ]
        }
    ],
    "metadata": {
        "interpreter": {
            "hash": "d1ae3af205e27dfcf2138a3e341f35afb8a31389c942549ba24941a596005a09"
        },
        "kernelspec": {
            "display_name": "Python 3.9.6 64-bit",
            "name": "python3"
        },
        "language_info": {
            "codemirror_mode": {
                "name": "ipython",
                "version": 3
            },
            "file_extension": ".py",
            "mimetype": "text/x-python",
            "name": "python",
            "nbconvert_exporter": "python",
            "pygments_lexer": "ipython3",
            "version": "3.9.6"
        },
        "orig_nbformat": 4
    },
    "nbformat": 4,
    "nbformat_minor": 2
}
