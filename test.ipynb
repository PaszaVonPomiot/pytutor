{
    "cells": [
        {
            "cell_type": "code",
            "execution_count": 3,
            "metadata": {},
            "outputs": [
                {
                    "ename": "ValueError",
                    "evalue": "temperature not possible",
                    "output_type": "error",
                    "traceback": [
                        "\u001b[1;31m---------------------------------------------------------------------------\u001b[0m",
                        "\u001b[1;31mValueError\u001b[0m                                Traceback (most recent call last)",
                        "\u001b[1;32m~\\AppData\\Local\\Temp/ipykernel_14616/3940557227.py\u001b[0m in \u001b[0;36m<module>\u001b[1;34m\u001b[0m\n\u001b[0;32m     21\u001b[0m \u001b[1;31m# print(t.to_farenheit())\u001b[0m\u001b[1;33m\u001b[0m\u001b[1;33m\u001b[0m\u001b[1;33m\u001b[0m\u001b[0m\n\u001b[0;32m     22\u001b[0m \u001b[1;31m# print(t.__dict__)\u001b[0m\u001b[1;33m\u001b[0m\u001b[1;33m\u001b[0m\u001b[1;33m\u001b[0m\u001b[0m\n\u001b[1;32m---> 23\u001b[1;33m \u001b[0mt\u001b[0m\u001b[1;33m.\u001b[0m\u001b[0mtemperature\u001b[0m \u001b[1;33m=\u001b[0m \u001b[1;33m-\u001b[0m\u001b[1;36m444\u001b[0m\u001b[1;33m\u001b[0m\u001b[1;33m\u001b[0m\u001b[0m\n\u001b[0m",
                        "\u001b[1;32m~\\AppData\\Local\\Temp/ipykernel_14616/3940557227.py\u001b[0m in \u001b[0;36mset_temperature\u001b[1;34m(self, temp)\u001b[0m\n\u001b[0;32m     12\u001b[0m     \u001b[1;32mdef\u001b[0m \u001b[0mset_temperature\u001b[0m\u001b[1;33m(\u001b[0m\u001b[0mself\u001b[0m\u001b[1;33m,\u001b[0m \u001b[0mtemp\u001b[0m\u001b[1;33m)\u001b[0m\u001b[1;33m:\u001b[0m\u001b[1;33m\u001b[0m\u001b[1;33m\u001b[0m\u001b[0m\n\u001b[0;32m     13\u001b[0m         \u001b[1;32mif\u001b[0m \u001b[0mtemp\u001b[0m \u001b[1;33m<\u001b[0m \u001b[1;33m-\u001b[0m\u001b[1;36m273\u001b[0m\u001b[1;33m:\u001b[0m\u001b[1;33m\u001b[0m\u001b[1;33m\u001b[0m\u001b[0m\n\u001b[1;32m---> 14\u001b[1;33m             \u001b[1;32mraise\u001b[0m \u001b[0mValueError\u001b[0m\u001b[1;33m(\u001b[0m\u001b[1;34m'temperature not possible'\u001b[0m\u001b[1;33m)\u001b[0m\u001b[1;33m\u001b[0m\u001b[1;33m\u001b[0m\u001b[0m\n\u001b[0m\u001b[0;32m     15\u001b[0m         \u001b[0mself\u001b[0m\u001b[1;33m.\u001b[0m\u001b[0m_temperature\u001b[0m\u001b[1;33m=\u001b[0m\u001b[0mtemp\u001b[0m\u001b[1;33m\u001b[0m\u001b[1;33m\u001b[0m\u001b[0m\n\u001b[0;32m     16\u001b[0m \u001b[1;33m\u001b[0m\u001b[0m\n",
                        "\u001b[1;31mValueError\u001b[0m: temperature not possible"
                    ]
                }
            ],
            "source": [
                "# metodę klasy zmienić na atrybut?\n",
                "class Celsius:\n",
                "    def __init__(self, temperature):\n",
                "        self.set_temperature(temperature)\n",
                "    \n",
                "    def to_farenheit(self):\n",
                "        return (self._temperature * 1.8) + 32\n",
                "\n",
                "    def get_temperature(self):\n",
                "        return self._temperature\n",
                "\n",
                "    def set_temperature(self, temp):\n",
                "        if temp < -273:\n",
                "            raise ValueError('temperature not possible')\n",
                "        self._temperature=temp\n",
                "\n",
                "    temperature = property(get_temperature, set_temperature)\n",
                "\n",
                "t = Celsius(21)\n",
                "t.set_temperature(333)\n",
                "# print(t.to_farenheit())\n",
                "# print(t.__dict__)\n",
                "t.temperature = 444\n"
            ]
        },
        {
            "cell_type": "code",
            "execution_count": 2,
            "metadata": {},
            "outputs": [
                {
                    "name": "stdout",
                    "output_type": "stream",
                    "text": [
                        "24\n"
                    ]
                }
            ],
            "source": [
                "def prop(func):\n",
                "    def wrapper(self):\n",
                "        self._temp = func()\n",
                "        print(self._temp)\n",
                "    return wrapper\n",
                "\n",
                "\n",
                "class Dupa:\n",
                "    # def __init__(self):\n",
                "    #     self.temp = 24\n",
                "    def get_temp(self):\n",
                "        return self.temp\n",
                "\n",
                "    @prop\n",
                "    def temp2(self):\n",
                "        return self.temp\n",
                "\n",
                "d = Dupa()\n",
                "# d.__dict__[\"get_temp\"]= d.temp\n",
                "print(d.temp2)\n",
                "\n",
                "\n",
                "\n",
                "\n",
                "\n"
            ]
        },
        {
            "cell_type": "code",
            "execution_count": null,
            "metadata": {},
            "outputs": [],
            "source": [
                "def uppercase(func):\n",
                "    def wrapper():\n",
                "        original_result = func()\n",
                "        modified_result = original_result.upper()\n",
                "        return modified_result\n",
                "\n",
                "    return wrapper  # returns function"
            ]
        }
    ],
    "metadata": {
        "interpreter": {
            "hash": "d1ae3af205e27dfcf2138a3e341f35afb8a31389c942549ba24941a596005a09"
        },
        "kernelspec": {
            "display_name": "Python 3.9.6 64-bit",
            "name": "python3"
        },
        "language_info": {
            "codemirror_mode": {
                "name": "ipython",
                "version": 3
            },
            "file_extension": ".py",
            "mimetype": "text/x-python",
            "name": "python",
            "nbconvert_exporter": "python",
            "pygments_lexer": "ipython3",
            "version": "3.9.6"
        },
        "orig_nbformat": 4
    },
    "nbformat": 4,
    "nbformat_minor": 2
}
