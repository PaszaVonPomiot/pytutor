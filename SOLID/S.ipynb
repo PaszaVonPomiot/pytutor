{
 "cells": [
  {
   "cell_type": "markdown",
   "source": [
    "# Single Responsibility Principle\r\n",
    "The Single Responsibility Principle requires that module or class should have only one job. So if a class has more than one responsibility, it becomes coupled. A change to one responsibility results to modification of the other responsibility.\r\n",
    "The single responsibility principle states that every module or class should have responsibility over a single part of the functionality provided by the software, and that responsibility should be entirely encapsulated by the class. All its services should be narrowly aligned with that responsibility.\r\n",
    "\r\n",
    "Eg. class to manage address book - add, remove, change, lookup entries but not save to file or database."
   ],
   "metadata": {}
  },
  {
   "cell_type": "markdown",
   "source": [
    "Below is given a class which has two responsibilities"
   ],
   "metadata": {}
  },
  {
   "cell_type": "code",
   "execution_count": null,
   "source": [
    "class  User:\r\n",
    "    def __init__(self, name: str):\r\n",
    "        self.name = name\r\n",
    "    \r\n",
    "    def get_name(self) -> str:\r\n",
    "        pass\r\n",
    "\r\n",
    "\r\n",
    "    def save(self, user: User):\r\n",
    "        pass"
   ],
   "outputs": [],
   "metadata": {}
  },
  {
   "cell_type": "markdown",
   "source": [
    "Properly separated responsibilities"
   ],
   "metadata": {}
  },
  {
   "cell_type": "code",
   "execution_count": null,
   "source": [
    "class User:\r\n",
    "    def __init__(self, name: str):\r\n",
    "            self.name = name\r\n",
    "    \r\n",
    "    def get_name(self):\r\n",
    "        pass\r\n",
    "\r\n",
    "\r\n",
    "\r\n",
    "class UserDB:\r\n",
    "    def get_user(self, id) -> User:\r\n",
    "        pass\r\n",
    "\r\n",
    "\r\n",
    "    def save(self, user: User):\r\n",
    "        pass"
   ],
   "outputs": [],
   "metadata": {}
  }
 ],
 "metadata": {
  "orig_nbformat": 4,
  "language_info": {
   "name": "python",
   "version": "3.9.6"
  },
  "kernelspec": {
   "name": "python3",
   "display_name": "Python 3.9.6 64-bit"
  },
  "interpreter": {
   "hash": "d1ae3af205e27dfcf2138a3e341f35afb8a31389c942549ba24941a596005a09"
  }
 },
 "nbformat": 4,
 "nbformat_minor": 2
}