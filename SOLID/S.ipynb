{
 "cells": [
  {
   "cell_type": "markdown",
   "metadata": {},
   "source": [
    "# Single Responsibility Principle\n",
    "\n",
    "- the SRP is about limiting the impact of change\n",
    "- gather together the things that change for the same reasons (to prevent class atomization), separate those things that change for different reasons (to prevent coupling)\n",
    "- a class should have one, and only one, reason to change\n",
    "\n",
    "\n",
    "The Single Responsibility Principle requires that module, class or function should have only one responsibility (reason to change).\n",
    "So if a class has more than one responsibility, it becomes coupled. A change to one responsibility results to modification of the other responsibility.\n",
    "\n",
    "The single responsibility principle states that every module or class should have responsibility over a single part of the functionality provided by the software, and that responsibility should be entirely encapsulated by the class. All its services should be narrowly aligned with that responsibility.\n",
    "\n",
    "Eg. class to manage address book - add, remove, change, lookup entries but not save to file or database."
   ]
  },
  {
   "cell_type": "code",
   "execution_count": 24,
   "metadata": {},
   "outputs": [
    {
     "name": "stdout",
     "output_type": "stream",
     "text": [
      "Saving konik to DB\n"
     ]
    }
   ],
   "source": [
    "# Violated SRP\n",
    "class Animal:\n",
    "    def set_name(self, name):\n",
    "        self.name = name\n",
    "\n",
    "    def get_name(self):\n",
    "        return self.name\n",
    "\n",
    "    def save(self):\n",
    "        print(f\"Saving {self.name} to DB\")\n",
    "\n",
    "\n",
    "horse = Animal()\n",
    "horse.set_name('konik')\n",
    "horse.save()"
   ]
  },
  {
   "cell_type": "code",
   "execution_count": 23,
   "metadata": {},
   "outputs": [
    {
     "name": "stdout",
     "output_type": "stream",
     "text": [
      "Saving konik to DB\n"
     ]
    }
   ],
   "source": [
    "# No Violation\n",
    "# Separated conerns of manipulating Animal properties and storing Animal properties\n",
    "class Animal:\n",
    "    def set_name(self, name: str):\n",
    "        self.name = name\n",
    "\n",
    "    def get_name(self):\n",
    "        return self.name\n",
    "\n",
    "\n",
    "class AnimalDB:\n",
    "    def save(self, animal: Animal):\n",
    "        print(f\"Saving {animal.name} to DB\")\n",
    "\n",
    "horse = Animal()\n",
    "horse.set_name('konik')\n",
    "\n",
    "db = AnimalDB()\n",
    "db.save(horse)"
   ]
  }
 ],
 "metadata": {
  "interpreter": {
   "hash": "d1ae3af205e27dfcf2138a3e341f35afb8a31389c942549ba24941a596005a09"
  },
  "kernelspec": {
   "display_name": "Python 3.9.6 64-bit",
   "name": "python3"
  },
  "language_info": {
   "codemirror_mode": {
    "name": "ipython",
    "version": 3
   },
   "file_extension": ".py",
   "mimetype": "text/x-python",
   "name": "python",
   "nbconvert_exporter": "python",
   "pygments_lexer": "ipython3",
   "version": "3.9.6"
  },
  "orig_nbformat": 4
 },
 "nbformat": 4,
 "nbformat_minor": 2
}
