{
 "cells": [
  {
   "cell_type": "markdown",
   "source": [
    "# Liskov Substitution Principle\r\n",
    "Child class (derived class, subclass) objects should be able to replace parent class objects without breaking the integrity of the application.\r\n",
    "\r\n",
    "Any code calling methods on objects of a specific type should continue to work when those objects get replaced with instances of a subtype.  A subtype is either a class extending another class or a class implementing an interface."
   ],
   "metadata": {}
  },
  {
   "cell_type": "code",
   "execution_count": null,
   "source": [],
   "outputs": [],
   "metadata": {}
  }
 ],
 "metadata": {
  "orig_nbformat": 4,
  "language_info": {
   "name": "python",
   "version": "3.9.6"
  },
  "kernelspec": {
   "name": "python3",
   "display_name": "Python 3.9.6 64-bit"
  },
  "interpreter": {
   "hash": "d1ae3af205e27dfcf2138a3e341f35afb8a31389c942549ba24941a596005a09"
  }
 },
 "nbformat": 4,
 "nbformat_minor": 2
}