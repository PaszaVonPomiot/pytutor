{
 "cells": [
  {
   "cell_type": "markdown",
   "source": [
    "# Open/Closed Principle\r\n",
    "Software entities(Classes, modules, functions) should be open for extension, not modification."
   ],
   "metadata": {}
  },
  {
   "cell_type": "markdown",
   "source": [
    "Example 1 - using just class inheritance\r\n",
    "New discounts will require changes to Discount class - bad"
   ],
   "metadata": {}
  },
  {
   "cell_type": "code",
   "execution_count": null,
   "source": [
    "class Discount:\r\n",
    "    def __init__(self, customer, price):\r\n",
    "        self.customer = customer\r\n",
    "        self.price = price\r\n",
    "    def give_discount(self):\r\n",
    "        if self.customer == 'fav':\r\n",
    "            return self.price * 0.2\r\n",
    "        if self.customer == 'vip':\r\n",
    "            return self.price * 0.4"
   ],
   "outputs": [],
   "metadata": {}
  },
  {
   "cell_type": "markdown",
   "source": [
    "New discounts will require new class that inherits Discount and sets new discount - good"
   ],
   "metadata": {}
  },
  {
   "cell_type": "code",
   "execution_count": null,
   "source": [
    "class Discount:\r\n",
    "    def __init__(self, customer, price):\r\n",
    "        self.customer = customer\r\n",
    "        self.price = price\r\n",
    "    def get_discount(self):\r\n",
    "        return self.price * 0.2 # 20%\r\n",
    "\r\n",
    "class VIPDiscount(Discount):\r\n",
    "    def get_discount(self):\r\n",
    "        return super().get_discount() * 2 # 40%\r\n",
    "\r\n",
    "class SuperVIPDiscount(VIPDiscount):\r\n",
    "    def get_discount(self):\r\n",
    "        return super().get_discount() * 1.5 # 60%"
   ],
   "outputs": [],
   "metadata": {}
  },
  {
   "cell_type": "markdown",
   "source": [
    "Example 2 - using abstract class and method\r\n",
    "\r\n",
    "New payment methods will require extending a class"
   ],
   "metadata": {}
  },
  {
   "cell_type": "code",
   "execution_count": null,
   "source": [
    "class PaymentProcessor:\r\n",
    "    def pay_debit(self, order, security_code):\r\n",
    "        print(\"Processing debit payment type\")\r\n",
    "        print(f\"Verifying security code: {security_code}\")\r\n",
    "        order.status = \"paid\"\r\n",
    "\r\n",
    "    def pay_credit(self, order, security_code):\r\n",
    "        print(\"Processing credit payment type\")\r\n",
    "        print(f\"Verifying security code: {security_code}\")\r\n",
    "        order.status = \"paid\""
   ],
   "outputs": [],
   "metadata": {}
  },
  {
   "cell_type": "markdown",
   "source": [
    "Using abstract class (ABC) and abstract method (abstractmethod) create separate class for new payment methods\r\n",
    "\r\n",
    "Abstract class cannot be instantiated directly, only via subclass. \r\n",
    "Abstract class can be blueprint for other classes.\r\n",
    "\r\n",
    "Abstract method is declared but has no implementation. Must be implemented by subclass. Subclass without implemented abstractmethod from parent class cannot be instantiated.   "
   ],
   "metadata": {}
  },
  {
   "cell_type": "code",
   "execution_count": null,
   "source": [
    "from abc import ABC, abstractmethod\r\n",
    "\r\n",
    "class PaymentProcessor(ABC):\r\n",
    "    @abstractmethod\r\n",
    "    def pay(self, order, security_code):\r\n",
    "        pass\r\n",
    "\r\n",
    "\r\n",
    "class DebitPaymentProcessor(PaymentProcessor):\r\n",
    "    def pay(self, order, security_code):\r\n",
    "        print(\"Processing debit payment type\")\r\n",
    "        print(f\"Verifying security code: {security_code}\")\r\n",
    "        order.status = \"paid\"\r\n",
    "\r\n",
    "\r\n",
    "class CreditPaymentProcessor(PaymentProcessor):\r\n",
    "    def pay(self, order, security_code):\r\n",
    "        print(\"Processing credit payment type\")\r\n",
    "        print(f\"Verifying security code: {security_code}\")\r\n",
    "        order.status = \"paid\""
   ],
   "outputs": [],
   "metadata": {}
  },
  {
   "cell_type": "markdown",
   "source": [
    "Example 3 - base class via subclassing with `raise NotImplementedError`\r\n",
    "\r\n",
    "Subclass can be instantiated but cannot use the method unless it's implemented."
   ],
   "metadata": {}
  },
  {
   "cell_type": "code",
   "execution_count": null,
   "source": [
    "class Animal:\r\n",
    "    def feed(self):\r\n",
    "        raise NotImplementedError(\"Method not implemented\")\r\n",
    "\r\n",
    "class Cat(Animal):\r\n",
    "    def feed(self):\r\n",
    "        do_something()"
   ],
   "outputs": [],
   "metadata": {}
  },
  {
   "cell_type": "markdown",
   "source": [
    "Use abc.ABC and abc.abstractmethod to ENFORCE implementation of abstract methods on ALL subclasses.\r\n",
    "Use inheritance with NotImplementedError to NOT ENFORCE implementation of abstract methods.\r\n",
    "\r\n",
    "Always name abstract classes by convention BaseSomething.\r\n",
    "\r\n",
    "Example 4 - base class can have both abstract and concrete methods"
   ],
   "metadata": {}
  },
  {
   "cell_type": "code",
   "execution_count": null,
   "source": [
    "from abc import ABC, abstractmethod\r\n",
    "class R(ABC):\r\n",
    "    def rk(self):\r\n",
    "        print(\"Abstract Base Class\")\r\n",
    "\r\n",
    "class K(R):\r\n",
    "    def rk(self):\r\n",
    "        super().rk()\r\n",
    "        print(\"subclass \")"
   ],
   "outputs": [],
   "metadata": {}
  }
 ],
 "metadata": {
  "orig_nbformat": 4,
  "language_info": {
   "name": "python",
   "version": "3.9.6"
  },
  "kernelspec": {
   "name": "python3",
   "display_name": "Python 3.9.6 64-bit"
  },
  "interpreter": {
   "hash": "d1ae3af205e27dfcf2138a3e341f35afb8a31389c942549ba24941a596005a09"
  }
 },
 "nbformat": 4,
 "nbformat_minor": 2
}