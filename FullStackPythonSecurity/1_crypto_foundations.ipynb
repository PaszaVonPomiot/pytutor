{
 "cells": [
  {
   "cell_type": "markdown",
   "metadata": {},
   "source": [
    "# Hashing\n",
    "Message -> Hash Function -> Hash Value(number)\n",
    "\n",
    "variable-length input -> fixed-length output\n",
    "\n",
    "## Hash function properties\n",
    "- deterministic behaviour - for given input produces the same output\n",
    "- fixed-length hash values \n",
    "- avalanche effect - when small difference in message results in large differences between hash values\n",
    "\n",
    "eg. `hash()` function used to hash keys in Python dicts. For cryptographic hash function additional properties must be met.\n",
    "\n",
    "\n",
    "## Cryptographic hash function properties \n",
    "- One-way function property - must be difficult to identify input from given output\n",
    "- Weak collision resistance - given one message it's infeasible to identify second message that computes to the same hash value\n",
    "- Strong collision resistance - it's infeasible to find any collision at all\n"
   ]
  },
  {
   "cell_type": "code",
   "execution_count": null,
   "metadata": {},
   "outputs": [],
   "source": [
    "print(hash(\"dupa\"))\n",
    "print(hash(\"dupa\"))\n",
    "print(hash(\"dupa2\"))"
   ]
  },
  {
   "cell_type": "markdown",
   "metadata": {},
   "source": [
    "## Cryptographic hashing in Python"
   ]
  },
  {
   "cell_type": "code",
   "execution_count": null,
   "metadata": {},
   "outputs": [],
   "source": [
    "import hashlib\n",
    "\n",
    "# list of all hash algorithms\n",
    "print(hashlib.algorithms_available)\n",
    "\n",
    "# list of hash algorithms available on all platforms\n",
    "print(hashlib.algorithms_guaranteed)"
   ]
  },
  {
   "cell_type": "markdown",
   "metadata": {},
   "source": [
    "`MD5` and `SHA1` are no longer suitable for data integrity.\n",
    "\n",
    "Use `SHA2` (standard) or `SHA3` (new standard) or `Blake` (fast). Most common is `SHA256`.\n"
   ]
  },
  {
   "cell_type": "code",
   "execution_count": null,
   "metadata": {},
   "outputs": [],
   "source": [
    "import hashlib\n",
    "\n",
    "# Python 3 strings saved in unicode code points (UTF-8)\n",
    "# Hash function argument must be bytes; strings must be encoded to become bytes\n",
    "hash1 = hashlib.sha256(b'duuupa')\n",
    "hash2 = hashlib.sha256('duuupa'.encode())\n",
    "print(hash1.digest_size, 'bytes')\n",
    "\n",
    "# Hash value in str\n",
    "print(hash1.hexdigest())\n",
    "print(hash2.hexdigest())\n",
    "\n",
    "# Hash value in bytes\n",
    "print(hash1.digest())\n",
    "print(hash2.digest())\n"
   ]
  },
  {
   "cell_type": "code",
   "execution_count": null,
   "metadata": {},
   "outputs": [],
   "source": [
    "from hashlib import sha256\n",
    "\n",
    "# Chunked hash generation using update()\n",
    "many = sha256()\n",
    "many.update(b'm')\n",
    "many.update(b'e')\n",
    "many.update(b's')\n",
    "many.update(b's')\n",
    "print(many.hexdigest())\n",
    "\n",
    "print(sha256(b'mess').hexdigest())"
   ]
  },
  {
   "cell_type": "markdown",
   "metadata": {},
   "source": [
    "## Checksum functions\n",
    "Checksums (eg. CRC, Adler-32) are fast and have insufficient collision resistance - can be used for error detection.\n",
    "\n",
    "Hash functions (SHA2 family, SHA3 family) are slower and have sufficient collision resistance - can be used for testing data integrity."
   ]
  },
  {
   "cell_type": "code",
   "execution_count": null,
   "metadata": {},
   "outputs": [],
   "source": [
    "import zlib\n",
    "\n",
    "# CRC checksum collision\n",
    "print(zlib.crc32(b'gnu'))\n",
    "print(zlib.crc32(b'codding'))\n",
    "\n",
    "# Adler-32 checksum no collision\n",
    "print(zlib.adler32(b'gnu'))\n",
    "print(zlib.adler32(b'codding'))\n"
   ]
  },
  {
   "cell_type": "markdown",
   "metadata": {},
   "source": [
    "# Keyed hashing\n",
    "## Data authentication\n",
    "Data authentication (who authored the change?) - requires __key__ and a __keyed hash function__"
   ]
  },
  {
   "cell_type": "markdown",
   "metadata": {},
   "source": [
    "### Key generation\n",
    "Key can be in form of:\n",
    "- random number - sequence of random numbers\n",
    "- passphrase - sequence of random words"
   ]
  },
  {
   "cell_type": "markdown",
   "metadata": {},
   "source": [
    "### Random number\n",
    "Keys that are hard to remember\n",
    "\n",
    "Use `secrets` module. Do not use `random` module."
   ]
  },
  {
   "cell_type": "code",
   "execution_count": null,
   "metadata": {},
   "outputs": [],
   "source": [
    "import os\n",
    "\n",
    "# random secret generation - 16 bytes\n",
    "print(os.urandom(16))"
   ]
  },
  {
   "cell_type": "code",
   "execution_count": null,
   "metadata": {},
   "outputs": [],
   "source": [
    "\n",
    "from secrets import token_bytes, token_hex, token_urlsafe\n",
    "\n",
    "# random secret generation - 16 bytes\n",
    "print(token_bytes(16))\n",
    "print(token_hex(16))\n",
    "print(token_urlsafe(16))"
   ]
  },
  {
   "cell_type": "markdown",
   "metadata": {},
   "source": [
    "### Passphrases\n",
    "Keys that are easy to remember"
   ]
  },
  {
   "cell_type": "code",
   "execution_count": null,
   "metadata": {},
   "outputs": [],
   "source": [
    "import secrets\n",
    "from pathlib import Path\n",
    "\n",
    "words = Path('wordlist.txt').read_text().splitlines()\n",
    "passphrase = ' '.join(secrets.choice(words) for i in range(4))\n",
    "print(passphrase)"
   ]
  },
  {
   "cell_type": "markdown",
   "metadata": {},
   "source": [
    "### Keyed hashing\n",
    "__Keyed hash functions__ use _key and message_ to produce _hash value_. The same message with different key is hashed to different hash value. Only some functions can do that by default like `blake2b`."
   ]
  },
  {
   "cell_type": "code",
   "execution_count": null,
   "metadata": {},
   "outputs": [],
   "source": [
    "from hashlib import blake2b\n",
    "\n",
    "m = b'message'\n",
    "x = b'key x'\n",
    "y = b'key y'\n",
    "\n",
    "print(blake2b(m, key=x).hexdigest())\n",
    "print(blake2b(m, key=y).hexdigest())"
   ]
  },
  {
   "cell_type": "markdown",
   "metadata": {},
   "source": [
    "## HMAC functions\n",
    "Hash-based Message Authentication Code.\n",
    "\n",
    "HMAC functions allow any generic hashing function to become keyed hash functions. It has 3 inputs:\n",
    "- message\n",
    "- key\n",
    "- hash function"
   ]
  },
  {
   "cell_type": "code",
   "execution_count": null,
   "metadata": {},
   "outputs": [],
   "source": [
    "import hashlib\n",
    "import hmac\n",
    "\n",
    "xx = hmac.new(key=b'key', msg=b'message', digestmod=hashlib.sha3_256)\n",
    "print(xx.name)  # protocol name prefixed with HMAC\n",
    "print(xx.hexdigest())"
   ]
  },
  {
   "cell_type": "markdown",
   "metadata": {},
   "source": [
    "### Data authentication between parties"
   ]
  },
  {
   "cell_type": "code",
   "execution_count": null,
   "metadata": {},
   "outputs": [],
   "source": [
    "import hashlib\n",
    "import hmac\n",
    "import json\n",
    "hmac_sha256 = hmac.new(b'shared_key', digestmod=hashlib.sha256)\n",
    "message = b'from Bob to Alice'\n",
    "hmac_sha256.update(message)\n",
    "hash_value = hmac_sha256.hexdigest()\n",
    "authenticated_msg = {\n",
    "    'message': list(message),\n",
    "    'hash_value': hash_value, \n",
    "    }\n",
    "outbound_msg_to_alice = json.dumps(authenticated_msg)"
   ]
  },
  {
   "cell_type": "code",
   "execution_count": null,
   "metadata": {},
   "outputs": [],
   "source": [
    "import hashlib\n",
    "import hmac\n",
    "import json\n",
    "authenticated_msg = json.loads(inbound_msg_from_bob)\n",
    "message = bytes(authenticated_msg['message'])\n",
    "hmac_sha256 = hmac.new(b'shared_key', digestmod=hashlib.sha256)\n",
    "hmac_sha256.update(message)\n",
    "hash_value = hmac_sha256.hexdigest()\n",
    "if hash_value == authenticated_msg['hash_value']:\n",
    "    print('trust message')"
   ]
  },
  {
   "cell_type": "markdown",
   "metadata": {},
   "source": [
    "## Timing attacks\n",
    "String comparison of 2 hash values is faster if they are different (evaluates to False faster). Attacker can measure response time to invalid hash (_side channel attack_).\n",
    "\n",
    "To mitigate this problem use length-constant time or random time. Always use `compare_digest()` for hashes.\n"
   ]
  },
  {
   "cell_type": "code",
   "execution_count": null,
   "metadata": {},
   "outputs": [],
   "source": [
    "from hmac import compare_digest\n",
    "\n",
    "compare_digest('abc', 'abcd')"
   ]
  },
  {
   "cell_type": "markdown",
   "metadata": {},
   "source": [
    "# Symmetric encryption\n",
    "Encryption - process of obfuscating plaintext into ciphertext using cipher (encryption algorithm) together with key. Encryption ensures confidentiality.\n",
    "\n",
    "Decryption - reverse process\n",
    "\n",
    "Fernet guarantees that a message encrypted using it cannot be manipulated or read without the key. Fernet is an implementation of symmetric (also known as “secret key”) authenticated cryptography. Fernet also has support for implementing key rotation via MultiFernet."
   ]
  },
  {
   "cell_type": "code",
   "execution_count": null,
   "metadata": {},
   "outputs": [],
   "source": [
    "from cryptography.fernet import Fernet\n",
    "key = Fernet.generate_key()  # random 32 byte key in bytes format\n",
    "print(key)\n",
    "fernet = Fernet(key)  # general purpose class initialized with key\n",
    "\n",
    "# token - combined ciphertext HMAC hash value from that ciphertext (confidentiality + message authenticity???)\n",
    "token = fernet.encrypt(b'duuupa')\n",
    "token"
   ]
  },
  {
   "cell_type": "markdown",
   "metadata": {},
   "source": [
    "## Key rotation\n",
    "Key rotation - retire one key with another. It means decrypting all ciphertext with old key and reencrypting them with new key"
   ]
  },
  {
   "cell_type": "code",
   "execution_count": null,
   "metadata": {},
   "outputs": [],
   "source": [
    "from cryptography.fernet import Fernet, MultiFernet\n",
    "\n",
    "# Encrypting with old key\n",
    "old_key = Fernet.generate_key()\n",
    "old_fernet = Fernet(old_key)\n",
    "old_token1 = old_fernet.encrypt(b'dupa')\n",
    "old_token2 = old_fernet.encrypt(b'krowa')\n",
    "\n",
    "# Creating new key\n",
    "new_key = Fernet.generate_key()\n",
    "new_fernet = Fernet(new_key)\n",
    "\n",
    "multi_fernet = MultiFernet([new_fernet, old_fernet])\n",
    "# List of tokens encrypted with old key\n",
    "old_tokens = [old_token1, old_token2]\n",
    "print(old_tokens)\n",
    "# Decrypting old tokens and reencrypting them with new key\n",
    "new_tokens = [multi_fernet.rotate(t) for t in old_tokens]\n",
    "print(new_tokens)\n",
    "\n",
    "#replace_old_tokens(new_tokens)\n",
    "#replace_old_key_with_new_key(new_key)\n",
    "#del old_key\n",
    "\n",
    "# Decrypt after rotation\n",
    "for new_token in new_tokens:\n",
    "    plaintext = new_fernet.decrypt(new_token)\n",
    "    print(plaintext)"
   ]
  },
  {
   "cell_type": "markdown",
   "metadata": {},
   "source": [
    "### Categories of encryption algorithms\n",
    "- block ciphers (AES - 128, 192, 256) - encrypts fixed-length blocks\n",
    "- stream ciphers (ChaCha) - processes stream of bytes\n",
    "\n",
    "### Symmetric encryption modes:\n",
    "- ECB (Electronic CodeBook) - for less than block-length plaintext fills in with padding\n",
    "- CBC (Cipher Block Chaining) - with initialization vector (IV)\n",
    "- GCM (Galois Counter Mode)\n",
    "- others"
   ]
  },
  {
   "cell_type": "code",
   "execution_count": null,
   "metadata": {},
   "outputs": [],
   "source": [
    "# ECB example\n",
    "from cryptography.hazmat.backends import default_backend\n",
    "from cryptography.hazmat.primitives.ciphers import Cipher, algorithms, modes\n",
    "\n",
    "\n",
    "key = b'key must be 128, 196 or 256 bits'\n",
    "cipher = Cipher(\n",
    "    algorithms.AES(key),  # AES cipher\n",
    "    modes.ECB(),  # ECB mode\n",
    "    backend=default_backend()  # OpenSSL\n",
    "    )\n",
    "\n",
    "encryptor = cipher.encryptor()\n",
    "plaintext = b'block size = 128'  # signle block of plaintext\n",
    "\n",
    "ciphertext = encryptor.update(plaintext) + encryptor.finalize()  # single block of ciphertext\n",
    "print(ciphertext)"
   ]
  },
  {
   "cell_type": "markdown",
   "metadata": {},
   "source": [
    "### Summary\n",
    "- ecryption ensures confidentiality\n",
    "- symmetric encryption algorithms use the same key for encryption and decryption"
   ]
  },
  {
   "cell_type": "markdown",
   "metadata": {},
   "source": [
    "# Asymmetric encryption"
   ]
  },
  {
   "cell_type": "markdown",
   "metadata": {},
   "source": [
    "## RSA public-key encryption\n",
    " \n",
    "RSA - public-key cryptosystem that involves 4 steps:\n",
    "1. key generation\n",
    "1. key distribution\n",
    "1. encryption\n",
    "1. decryption\n",
    "\n",
    "\n",
    "Create private key:\n",
    "\n",
    "`openssl genpkey -algorithm RSA -out private_key.pem -pkeyopt rsa_keygen_bits:2048`\n",
    "\n",
    "Create public key:\n",
    "\n",
    "`openssl rsa -pubout -in private_key.pem -out public_key.pem`\n",
    "\n",
    " \n",
    "Public-key cryptography allows:\n",
    "- encrypting with public key and only private key can decrypt - ensures data confidentiality\n",
    "- encrypting with private key and only public key can decrypt - ensures data authenticity\n",
    " \n",
    " \n",
    "## Nonrepudiation\n",
    "When system prevents a participant from denying their actions. Assymentric encryption alone\n",
    " \n",
    "Assymentric encryption alone does not ensure nonrepudiation because eg.:\n",
    "- anyone with public key can create message and claim it's from someone else\n",
    "- anyone who received message encrypted with private key can say he is the author of the message\n",
    " \n",
    "In order to achieve nonrepudiation a digital signature is needed.\n",
    " \n",
    "## RSA Digital signatures\n",
    "Digital signature allows __anyone__ to check:\n",
    "- who sent the message?\n",
    "- has the message been modified in transit?\n",
    " \n",
    "Digital signature:\n",
    "- is unique to signer\n",
    "- can be used to legally bind the signer to a contract\n",
    "- is difficult to forge\n",
    " \n",
    "Digital signature combines hashing with public-key encryption.\n",
    " \n",
    "Sender sends message hash encrypted with private key along with message itself\n",
    "Receiver can decrypt the hash with public key and compare it with computed hash of a message\n",
    " \n",
    "RSA digital signing uses different padding scheme than RSA encryption.\n",
    " \n",
    "## Eclyptic-curve digital signatures\n",
    "Cryptosystem similar to RSA with following characteristics:\n",
    "- uses key-pair for signing data and verifying signatures\n",
    "- private key cannot decrypt what public key encrypted\n",
    "- faster signing data and verifying signatures than RSA\n",
    "- less lines of code to use\n",
    " \n",
    " \n",
    "## Summary\n",
    "- Hashing ensures data integrity and data authentication.\n",
    "- Encryption ensures confidentiality.\n",
    "- Digital signatures ensure nonrepudiation"
   ]
  },
  {
   "cell_type": "markdown",
   "metadata": {},
   "source": [
    "# TLS - Transport Layer Security\n",
    "- ensures data integrity, data authentication, confidentiality, and nonrepudiation\n",
    "- point-to-point client/server protocol\n",
    " \n",
    "## TLS handshake\n",
    "Typically client initiates handshake(s) with server. Handshake objective is to perform:\n",
    "- cipher suite negotiation\n",
    "- key exchange\n",
    "- server authentication\n",
    " \n",
    "### Cipher suite negotiation\n",
    "Client and server must first agree on common set of algorithms known as cipher suite. \n",
    "Cipher suite defines encryption and hashing algorithms.\n",
    "Each TLS version defines different cipher suites. \n",
    "\n",
    "\n",
    "TLS 1.2 defines 37 cipher suites\n",
    "\n",
    "\n",
    "TLS 1.3 defines 5 cipher suites:\n",
    "- TLS_AES_128_CCM_8_SHA256\n",
    "- TLS_AES_128_CCM_SHA256\n",
    "- TLS_AES_128_GCM_SHA256\n",
    "- TLS_AES_256_GCM_SHA384\n",
    "- TLS_CHACHA20_POLY1305_SHA256\n",
    "\n",
    "\n",
    "TLS_AES_128_GCM_SHA256:\n",
    "- TLS_- common prefix\n",
    "- AES_128_GCM - symmetric encryption with 128bit key in GCM mode\n",
    "- _SHA256 - hashing\n",
    "\n",
    "\n",
    "TLS ensures confidentiality with symmetric encryption (it's more efficient than assymetric encryption).\n",
    " \n",
    "### Key exchange\n",
    "Client and server must exchange a key that will be used with cipher suite for symmetric encryption.\n",
    "\n",
    "In TLS 1.2 key-distribution problem is solved by Diffie-Hellman key exchange or STATIC RSA key-exchange method (worse)\n",
    "\n",
    "In TLS 1.3 key-distribution problem is solved by Diffie-Hellman key exchange (Perfect Forward Secrecy)\n",
    "\n",
    "Diffie-Hellman key-exchange is one-roundtrip key-exchange algorithm that results in both nodes independently computing shared secret key for symmetric encryption.\n",
    " \n",
    " \n",
    " \n",
    "### Server authentication\n",
    "Public-key encryption is used for sever authentication\n",
    " \n",
    "## Django\n",
    " \n",
    "## Gunicorn"
   ]
  }
 ],
 "metadata": {
  "interpreter": {
   "hash": "d1ae3af205e27dfcf2138a3e341f35afb8a31389c942549ba24941a596005a09"
  },
  "kernelspec": {
   "display_name": "Python 3.9.6 64-bit",
   "name": "python3"
  },
  "language_info": {
   "codemirror_mode": {
    "name": "ipython",
    "version": 3
   },
   "file_extension": ".py",
   "mimetype": "text/x-python",
   "name": "python",
   "nbconvert_exporter": "python",
   "pygments_lexer": "ipython3",
   "version": "3.9.6"
  },
  "orig_nbformat": 4
 },
 "nbformat": 4,
 "nbformat_minor": 2
}
