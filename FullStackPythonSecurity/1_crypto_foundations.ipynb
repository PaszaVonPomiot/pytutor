{
 "cells": [
  {
   "cell_type": "markdown",
   "source": [
    "# Hashing\r\n",
    "Message -> Hash Function -> Hash Value(number)\r\n",
    "\r\n",
    "variable-length input -> fixed-length output\r\n",
    "\r\n",
    "## Hash function properties\r\n",
    "- deterministic behaviour - for given input produces the same output\r\n",
    "- fixed-length hash values \r\n",
    "- avalanche effect - when small difference in message results in large differences between hash values\r\n",
    "\r\n",
    "eg. `hash()` function used to hash keys in Python dicts. For cryptographic hash function additional properties must be met.\r\n",
    "\r\n",
    "\r\n",
    "## Cryptographic hash function properties \r\n",
    "- One-way function property - must be difficult to identify input from given output\r\n",
    "- Weak collision resistance - given one message it's infeasible to identify second message that computes to the same hash value\r\n",
    "- Strong collision resistance - it's infeasible to find any collision at all\r\n"
   ],
   "metadata": {}
  },
  {
   "cell_type": "code",
   "execution_count": null,
   "source": [
    "print(hash(\"dupa\"))\r\n",
    "print(hash(\"dupa\"))\r\n",
    "print(hash(\"dupa2\"))"
   ],
   "outputs": [],
   "metadata": {}
  },
  {
   "cell_type": "code",
   "execution_count": 38,
   "source": [
    "import hashlib\r\n",
    "\r\n",
    "# list of all hash algorithms\r\n",
    "print(hashlib.algorithms_available)\r\n",
    "\r\n",
    "# list of hash algorithms available on all platforms\r\n",
    "print(hashlib.algorithms_guaranteed)"
   ],
   "outputs": [
    {
     "output_type": "stream",
     "name": "stdout",
     "text": [
      "{'sm3', 'sha384', 'sha3_224', 'ripemd160', 'sha1', 'blake2b', 'sha3_512', 'sha512_224', 'blake2s', 'sha512_256', 'sha3_384', 'shake_256', 'sha3_256', 'sha224', 'shake_128', 'md5', 'md4', 'mdc2', 'sha512', 'md5-sha1', 'whirlpool', 'sha256'}\n",
      "{'blake2s', 'sha512', 'shake_128', 'md5', 'blake2b', 'sha384', 'sha3_224', 'sha3_384', 'sha1', 'shake_256', 'sha3_256', 'sha256', 'sha3_512', 'sha224'}\n"
     ]
    }
   ],
   "metadata": {}
  },
  {
   "cell_type": "markdown",
   "source": [
    "`MD5` and `SHA1` are no longer suitable for data integrity.\r\n",
    "\r\n",
    "Use `SHA2` (standard) or `SHA3` (new standard) or `Blake` (fast). Most common is `SHA256`.\r\n"
   ],
   "metadata": {}
  },
  {
   "cell_type": "code",
   "execution_count": 37,
   "source": [
    "import hashlib\r\n",
    "\r\n",
    "# Python 3 strings saved in unicode code points (UTF-8)\r\n",
    "# Hash function argument must be bytes; strings must be encoded to become bytes\r\n",
    "hash1 = hashlib.sha256(b'duuupa')\r\n",
    "hash2 = hashlib.sha256('duuupa'.encode())\r\n",
    "print(hash1.digest_size, 'bytes')\r\n",
    "\r\n",
    "# Hash value in str\r\n",
    "print(hash1.hexdigest())\r\n",
    "print(hash2.hexdigest())\r\n",
    "\r\n",
    "# Hash value in bytes\r\n",
    "print(hash1.digest())\r\n",
    "print(hash2.digest())\r\n"
   ],
   "outputs": [
    {
     "output_type": "stream",
     "name": "stdout",
     "text": [
      "32 bytes\n",
      "9e708c9659d9aede8542eb411f146002e2751b8e4e15cf620669c3a152d53f9d\n",
      "9e708c9659d9aede8542eb411f146002e2751b8e4e15cf620669c3a152d53f9d\n",
      "b'\\x9ep\\x8c\\x96Y\\xd9\\xae\\xde\\x85B\\xebA\\x1f\\x14`\\x02\\xe2u\\x1b\\x8eN\\x15\\xcfb\\x06i\\xc3\\xa1R\\xd5?\\x9d'\n",
      "b'\\x9ep\\x8c\\x96Y\\xd9\\xae\\xde\\x85B\\xebA\\x1f\\x14`\\x02\\xe2u\\x1b\\x8eN\\x15\\xcfb\\x06i\\xc3\\xa1R\\xd5?\\x9d'\n"
     ]
    }
   ],
   "metadata": {}
  },
  {
   "cell_type": "code",
   "execution_count": 34,
   "source": [
    "from hashlib import sha256\r\n",
    "\r\n",
    "# Chunked hash generation using update()\r\n",
    "many = sha256()\r\n",
    "many.update(b'm')\r\n",
    "many.update(b'e')\r\n",
    "many.update(b's')\r\n",
    "many.update(b's')\r\n",
    "print(many.hexdigest())\r\n",
    "\r\n",
    "print(sha256(b'mess').hexdigest())"
   ],
   "outputs": [
    {
     "output_type": "stream",
     "name": "stdout",
     "text": [
      "7d64084076881eb259d7f09a68437e81b421a6a95057f65053815173926d1487\n",
      "7d64084076881eb259d7f09a68437e81b421a6a95057f65053815173926d1487\n"
     ]
    }
   ],
   "metadata": {}
  },
  {
   "cell_type": "markdown",
   "source": [
    "Checksums (eg. CRC, Adler-32) are fast and have insufficient collision resistance - can be used for error detection.\r\n",
    "\r\n",
    "Hash functions (SHA2 family, SHA3 family) are slower and have sufficient collision resistance - can be used for testing data integrity."
   ],
   "metadata": {}
  },
  {
   "cell_type": "code",
   "execution_count": 42,
   "source": [
    "import zlib\r\n",
    "\r\n",
    "# CRC checksum collision\r\n",
    "print(zlib.crc32(b'gnu'))\r\n",
    "print(zlib.crc32(b'codding'))\r\n",
    "\r\n",
    "# Adler-32 checksum no collision\r\n",
    "print(zlib.adler32(b'gnu'))\r\n",
    "print(zlib.adler32(b'codding'))\r\n"
   ],
   "outputs": [
    {
     "output_type": "stream",
     "name": "stdout",
     "text": [
      "1774765869\n",
      "1774765869\n",
      "42533195\n",
      "190317273\n"
     ]
    }
   ],
   "metadata": {}
  },
  {
   "cell_type": "markdown",
   "source": [
    "# Keyed hashing"
   ],
   "metadata": {}
  },
  {
   "cell_type": "markdown",
   "source": [
    "# Symmetric encryption"
   ],
   "metadata": {}
  },
  {
   "cell_type": "markdown",
   "source": [
    "# Asymmetric encryption"
   ],
   "metadata": {}
  },
  {
   "cell_type": "markdown",
   "source": [
    "# Transport Layer Security"
   ],
   "metadata": {}
  }
 ],
 "metadata": {
  "orig_nbformat": 4,
  "language_info": {
   "name": "python",
   "version": "3.9.6",
   "mimetype": "text/x-python",
   "codemirror_mode": {
    "name": "ipython",
    "version": 3
   },
   "pygments_lexer": "ipython3",
   "nbconvert_exporter": "python",
   "file_extension": ".py"
  },
  "kernelspec": {
   "name": "python3",
   "display_name": "Python 3.9.6 64-bit"
  },
  "interpreter": {
   "hash": "d1ae3af205e27dfcf2138a3e341f35afb8a31389c942549ba24941a596005a09"
  }
 },
 "nbformat": 4,
 "nbformat_minor": 2
}