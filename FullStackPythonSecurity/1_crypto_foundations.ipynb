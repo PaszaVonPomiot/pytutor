{
 "cells": [
  {
   "cell_type": "markdown",
   "metadata": {},
   "source": [
    "# Hashing\n",
    "Message -> Hash Function -> Hash Value(number)\n",
    "\n",
    "variable-length input -> fixed-length output\n",
    "\n",
    "## Hash function properties\n",
    "- deterministic behaviour - for given input produces the same output\n",
    "- fixed-length hash values \n",
    "- avalanche effect - when small difference in message results in large differences between hash values\n",
    "\n",
    "eg. `hash()` function used to hash keys in Python dicts. For cryptographic hash function additional properties must be met.\n",
    "\n",
    "\n",
    "## Cryptographic hash function properties \n",
    "- One-way function property - must be difficult to identify input from given output\n",
    "- Weak collision resistance - given one message it's infeasible to identify second message that computes to the same hash value\n",
    "- Strong collision resistance - it's infeasible to find any collision at all\n"
   ]
  },
  {
   "cell_type": "code",
   "execution_count": null,
   "metadata": {},
   "outputs": [],
   "source": [
    "print(hash(\"dupa\"))\n",
    "print(hash(\"dupa\"))\n",
    "print(hash(\"dupa2\"))"
   ]
  },
  {
   "cell_type": "markdown",
   "metadata": {},
   "source": [
    "## Cryptographic hashing in Python"
   ]
  },
  {
   "cell_type": "code",
   "execution_count": null,
   "metadata": {},
   "outputs": [],
   "source": [
    "import hashlib\n",
    "\n",
    "# list of all hash algorithms\n",
    "print(hashlib.algorithms_available)\n",
    "\n",
    "# list of hash algorithms available on all platforms\n",
    "print(hashlib.algorithms_guaranteed)"
   ]
  },
  {
   "cell_type": "markdown",
   "metadata": {},
   "source": [
    "`MD5` and `SHA1` are no longer suitable for data integrity.\n",
    "\n",
    "Use `SHA2` (standard) or `SHA3` (new standard) or `Blake` (fast). Most common is `SHA256`.\n"
   ]
  },
  {
   "cell_type": "code",
   "execution_count": null,
   "metadata": {},
   "outputs": [],
   "source": [
    "import hashlib\n",
    "\n",
    "# Python 3 strings saved in unicode code points (UTF-8)\n",
    "# Hash function argument must be bytes; strings must be encoded to become bytes\n",
    "hash1 = hashlib.sha256(b'duuupa')\n",
    "hash2 = hashlib.sha256('duuupa'.encode())\n",
    "print(hash1.digest_size, 'bytes')\n",
    "\n",
    "# Hash value in str\n",
    "print(hash1.hexdigest())\n",
    "print(hash2.hexdigest())\n",
    "\n",
    "# Hash value in bytes\n",
    "print(hash1.digest())\n",
    "print(hash2.digest())\n"
   ]
  },
  {
   "cell_type": "code",
   "execution_count": null,
   "metadata": {},
   "outputs": [],
   "source": [
    "from hashlib import sha256\n",
    "\n",
    "# Chunked hash generation using update()\n",
    "many = sha256()\n",
    "many.update(b'm')\n",
    "many.update(b'e')\n",
    "many.update(b's')\n",
    "many.update(b's')\n",
    "print(many.hexdigest())\n",
    "\n",
    "print(sha256(b'mess').hexdigest())"
   ]
  },
  {
   "cell_type": "markdown",
   "metadata": {},
   "source": [
    "## Checksum functions\n",
    "Checksums (eg. CRC, Adler-32) are fast and have insufficient collision resistance - can be used for error detection.\n",
    "\n",
    "Hash functions (SHA2 family, SHA3 family) are slower and have sufficient collision resistance - can be used for testing data integrity."
   ]
  },
  {
   "cell_type": "code",
   "execution_count": null,
   "metadata": {},
   "outputs": [],
   "source": [
    "import zlib\n",
    "\n",
    "# CRC checksum collision\n",
    "print(zlib.crc32(b'gnu'))\n",
    "print(zlib.crc32(b'codding'))\n",
    "\n",
    "# Adler-32 checksum no collision\n",
    "print(zlib.adler32(b'gnu'))\n",
    "print(zlib.adler32(b'codding'))\n"
   ]
  },
  {
   "cell_type": "markdown",
   "metadata": {},
   "source": [
    "# Keyed hashing\n",
    "## Data authentication\n",
    "Data authentication (who authored the change?) - requires __key__ and a __keyed hash function__"
   ]
  },
  {
   "cell_type": "markdown",
   "metadata": {},
   "source": [
    "### Key generation\n",
    "Key can be in form of:\n",
    "- random number - sequence of random numbers\n",
    "- passphrase - sequence of random words"
   ]
  },
  {
   "cell_type": "markdown",
   "metadata": {},
   "source": [
    "### Random number\n",
    "Keys that are hard to remember\n",
    "\n",
    "Use `secrets` module. Do not use `random` module."
   ]
  },
  {
   "cell_type": "code",
   "execution_count": null,
   "metadata": {},
   "outputs": [],
   "source": [
    "import os\n",
    "\n",
    "# random secret generation - 16 bytes\n",
    "print(os.urandom(16))"
   ]
  },
  {
   "cell_type": "code",
   "execution_count": null,
   "metadata": {},
   "outputs": [],
   "source": [
    "\n",
    "from secrets import token_bytes, token_hex, token_urlsafe\n",
    "\n",
    "# random secret generation - 16 bytes\n",
    "print(token_bytes(16))\n",
    "print(token_hex(16))\n",
    "print(token_urlsafe(16))"
   ]
  },
  {
   "cell_type": "markdown",
   "metadata": {},
   "source": [
    "### Passphrases\n",
    "Keys that are easy to remember"
   ]
  },
  {
   "cell_type": "code",
   "execution_count": null,
   "metadata": {},
   "outputs": [],
   "source": [
    "import secrets\n",
    "from pathlib import Path\n",
    "\n",
    "words = Path('wordlist.txt').read_text().splitlines()\n",
    "passphrase = ' '.join(secrets.choice(words) for i in range(4))\n",
    "print(passphrase)"
   ]
  },
  {
   "cell_type": "markdown",
   "metadata": {},
   "source": [
    "### Keyed hashing\n",
    "__Keyed hash functions__ use _key and message_ to produce _hash value_. The same message with different key is hashed to different hash value. Only some functions can do that by default like `blake2b`."
   ]
  },
  {
   "cell_type": "code",
   "execution_count": null,
   "metadata": {},
   "outputs": [],
   "source": [
    "from hashlib import blake2b\n",
    "\n",
    "m = b'message'\n",
    "x = b'key x'\n",
    "y = b'key y'\n",
    "\n",
    "print(blake2b(m, key=x).hexdigest())\n",
    "print(blake2b(m, key=y).hexdigest())"
   ]
  },
  {
   "cell_type": "markdown",
   "metadata": {},
   "source": [
    "## HMAC functions\n",
    "Hash-based Message Authentication Code.\n",
    "\n",
    "HMAC functions allow any generic hashing function to become keyed hash functions. It has 3 inputs:\n",
    "- message\n",
    "- key\n",
    "- hash function"
   ]
  },
  {
   "cell_type": "code",
   "execution_count": null,
   "metadata": {},
   "outputs": [],
   "source": [
    "import hashlib\n",
    "import hmac\n",
    "\n",
    "xx = hmac.new(key=b'key', msg=b'message', digestmod=hashlib.sha3_256)\n",
    "print(xx.name)  # protocol name prefixed with HMAC\n",
    "print(xx.hexdigest())"
   ]
  },
  {
   "cell_type": "markdown",
   "metadata": {},
   "source": [
    "### Data authentication between parties"
   ]
  },
  {
   "cell_type": "code",
   "execution_count": null,
   "metadata": {},
   "outputs": [],
   "source": [
    "import hashlib\n",
    "import hmac\n",
    "import json\n",
    "hmac_sha256 = hmac.new(b'shared_key', digestmod=hashlib.sha256)\n",
    "message = b'from Bob to Alice'\n",
    "hmac_sha256.update(message)\n",
    "hash_value = hmac_sha256.hexdigest()\n",
    "authenticated_msg = {\n",
    "    'message': list(message),\n",
    "    'hash_value': hash_value, \n",
    "    }\n",
    "outbound_msg_to_alice = json.dumps(authenticated_msg)"
   ]
  },
  {
   "cell_type": "code",
   "execution_count": null,
   "metadata": {},
   "outputs": [],
   "source": [
    "import hashlib\n",
    "import hmac\n",
    "import json\n",
    "authenticated_msg = json.loads(inbound_msg_from_bob)\n",
    "message = bytes(authenticated_msg['message'])\n",
    "hmac_sha256 = hmac.new(b'shared_key', digestmod=hashlib.sha256)\n",
    "hmac_sha256.update(message)\n",
    "hash_value = hmac_sha256.hexdigest()\n",
    "if hash_value == authenticated_msg['hash_value']:\n",
    "    print('trust message')"
   ]
  },
  {
   "cell_type": "markdown",
   "metadata": {},
   "source": [
    "## Timing attacks\n",
    "String comparison of 2 hash values is faster if they are different (evaluates to False faster). Attacker can measure response time to invalid hash (_side channel attack_).\n",
    "\n",
    "To mitigate this problem use length-constant time or random time. Always use `compare_digest()` for hashes.\n"
   ]
  },
  {
   "cell_type": "code",
   "execution_count": null,
   "metadata": {},
   "outputs": [],
   "source": [
    "from hmac import compare_digest\n",
    "\n",
    "compare_digest('abc', 'abcd')"
   ]
  },
  {
   "cell_type": "markdown",
   "metadata": {},
   "source": [
    "# Symmetric encryption\n",
    "Encryption - process of obfuscating plaintext into ciphertext using cipher (encryption algorithm) together with key. Encryption ensures confidentiality.\n",
    "\n",
    "Decryption - reverse process\n",
    "\n",
    "Fernet guarantees that a message encrypted using it cannot be manipulated or read without the key. Fernet is an implementation of symmetric (also known as “secret key”) authenticated cryptography. Fernet also has support for implementing key rotation via MultiFernet."
   ]
  },
  {
   "cell_type": "code",
   "execution_count": null,
   "metadata": {},
   "outputs": [],
   "source": [
    "from cryptography.fernet import Fernet\n",
    "key = Fernet.generate_key()  # random 32 byte key in bytes format\n",
    "print(key)\n",
    "fernet = Fernet(key)  # general purpose class initialized with key\n",
    "\n",
    "# token - combined ciphertext HMAC hash value from that ciphertext (confidentiality + message authenticity???)\n",
    "token = fernet.encrypt(b'duuupa')\n",
    "token"
   ]
  },
  {
   "cell_type": "markdown",
   "metadata": {},
   "source": [
    "## Key rotation\n",
    "Key rotation - retire one key with another. It means decrypting all ciphertext with old key and reencrypting them with new key"
   ]
  },
  {
   "cell_type": "code",
   "execution_count": null,
   "metadata": {},
   "outputs": [],
   "source": [
    "from cryptography.fernet import Fernet, MultiFernet\n",
    "\n",
    "# Encrypting with old key\n",
    "old_key = Fernet.generate_key()\n",
    "old_fernet = Fernet(old_key)\n",
    "old_token1 = old_fernet.encrypt(b'dupa')\n",
    "old_token2 = old_fernet.encrypt(b'krowa')\n",
    "\n",
    "# Creating new key\n",
    "new_key = Fernet.generate_key()\n",
    "new_fernet = Fernet(new_key)\n",
    "\n",
    "multi_fernet = MultiFernet([new_fernet, old_fernet])\n",
    "# List of tokens encrypted with old key\n",
    "old_tokens = [old_token1, old_token2]\n",
    "print(old_tokens)\n",
    "# Decrypting old tokens and reencrypting them with new key\n",
    "new_tokens = [multi_fernet.rotate(t) for t in old_tokens]\n",
    "print(new_tokens)\n",
    "\n",
    "#replace_old_tokens(new_tokens)\n",
    "#replace_old_key_with_new_key(new_key)\n",
    "#del old_key\n",
    "\n",
    "# Decrypt after rotation\n",
    "for new_token in new_tokens:\n",
    "    plaintext = new_fernet.decrypt(new_token)\n",
    "    print(plaintext)"
   ]
  },
  {
   "cell_type": "markdown",
   "metadata": {},
   "source": [
    "### Categories of encryption algorithms\n",
    "- block ciphers (AES - 128, 192, 256) - encrypts fixed-length blocks\n",
    "- stream ciphers (ChaCha) - processes stream of bytes\n",
    "\n",
    "### Symmetric encryption modes:\n",
    "- ECB (Electronic CodeBook) - for less than block-length plaintext fills in with padding\n",
    "- CBC (Cipher Block Chaining) - with initialization vector (IV)\n",
    "- GCM (Galois Counter Mode)\n",
    "- others"
   ]
  },
  {
   "cell_type": "code",
   "execution_count": null,
   "metadata": {},
   "outputs": [],
   "source": [
    "# ECB example\n",
    "from cryptography.hazmat.backends import default_backend\n",
    "from cryptography.hazmat.primitives.ciphers import Cipher, algorithms, modes\n",
    "\n",
    "\n",
    "key = b'key must be 128, 196 or 256 bits'\n",
    "cipher = Cipher(\n",
    "    algorithms.AES(key),  # AES cipher\n",
    "    modes.ECB(),  # ECB mode\n",
    "    backend=default_backend()  # OpenSSL\n",
    "    )\n",
    "\n",
    "encryptor = cipher.encryptor()\n",
    "plaintext = b'block size = 128'  # signle block of plaintext\n",
    "\n",
    "ciphertext = encryptor.update(plaintext) + encryptor.finalize()  # single block of ciphertext\n",
    "print(ciphertext)"
   ]
  },
  {
   "cell_type": "markdown",
   "metadata": {},
   "source": [
    "### Summary\n",
    "- ecryption ensures confidentiality\n",
    "- symmetric encryption algorithms use the same key for encryption and decryption"
   ]
  },
  {
   "cell_type": "markdown",
   "metadata": {},
   "source": [
    "# Asymmetric encryption"
   ]
  },
  {
   "cell_type": "markdown",
   "metadata": {},
   "source": [
    "## RSA public-key encryption\n",
    " \n",
    "RSA - public-key cryptosystem that involves 4 steps:\n",
    "1. key generation\n",
    "1. key distribution\n",
    "1. encryption\n",
    "1. decryption\n",
    "\n",
    "\n",
    "Create private key:\n",
    "```\n",
    "openssl genpkey -algorithm RSA -out private_key.pem -pkeyopt rsa_keygen_bits:2048\n",
    "```\n",
    "\n",
    "Create public key:\n",
    "\n",
    "```\n",
    "openssl rsa -pubout -in private_key.pem -out public_key.pem\n",
    "```\n",
    "\n",
    " \n",
    "Public-key cryptography allows:\n",
    "- encrypting with public key and only private key can decrypt - ensures data confidentiality\n",
    "- encrypting with private key and only public key can decrypt - ensures data authenticity\n",
    " \n",
    " \n",
    "## Nonrepudiation\n",
    "When system prevents a participant from denying their actions. Assymentric encryption alone\n",
    " \n",
    "Assymentric encryption alone does not ensure nonrepudiation because eg.:\n",
    "- anyone with public key can create message and claim it's from someone else\n",
    "- anyone who received message encrypted with private key can say he is the author of the message\n",
    " \n",
    "In order to achieve nonrepudiation a digital signature is needed.\n",
    " \n",
    "## RSA Digital signatures\n",
    "Digital signature allows __anyone__ to check:\n",
    "- who sent the message?\n",
    "- has the message been modified in transit?\n",
    " \n",
    "Digital signature:\n",
    "- is unique to signer\n",
    "- can be used to legally bind the signer to a contract\n",
    "- is difficult to forge\n",
    " \n",
    "Digital signature combines hashing with public-key encryption.\n",
    " \n",
    "Sender sends message hash encrypted with private key along with message itself\n",
    "Receiver can decrypt the hash with public key and compare it with computed hash of a message\n",
    " \n",
    "RSA digital signing uses different padding scheme than RSA encryption.\n",
    " \n",
    "## Elliptic-curve digital signatures\n",
    "Cryptosystem similar to RSA with following characteristics:\n",
    "- uses key-pair for signing data and verifying signatures\n",
    "- private key cannot decrypt what public key encrypted\n",
    "- faster signing data and verifying signatures than RSA\n",
    "- less lines of code to use\n",
    "- ECC = Elliptic Curve Cryptography; ECDSA = Elliptic Curve Digital Signature Algorithm\n",
    " \n",
    " \n",
    "## Summary\n",
    "- Hashing ensures data integrity and data authentication.\n",
    "- Encryption ensures confidentiality.\n",
    "- Digital signatures ensure nonrepudiation"
   ]
  },
  {
   "cell_type": "markdown",
   "metadata": {},
   "source": [
    "# TLS - Transport Layer Security\n",
    "- ensures data integrity, data authentication, confidentiality, and nonrepudiation\n",
    "- point-to-point client/server protocol\n",
    " \n",
    "## TLS handshake\n",
    "Typically client initiates handshake(s) with server. Handshake objective is to perform:\n",
    "- cipher suite negotiation\n",
    "- key exchange\n",
    "- server authentication\n",
    " \n",
    "### Cipher suite negotiation\n",
    "Client and server must first agree on common set of algorithms known as cipher suite. \n",
    "Cipher suite defines encryption and hashing algorithms.\n",
    "Each TLS version defines different cipher suites. \n",
    "\n",
    "\n",
    "TLS 1.2 defines 37 cipher suites\n",
    "\n",
    "\n",
    "TLS 1.3 defines 5 cipher suites:\n",
    "- TLS_AES_128_CCM_8_SHA256\n",
    "- TLS_AES_128_CCM_SHA256\n",
    "- TLS_AES_128_GCM_SHA256\n",
    "- TLS_AES_256_GCM_SHA384\n",
    "- TLS_CHACHA20_POLY1305_SHA256\n",
    "\n",
    "\n",
    "TLS_AES_128_GCM_SHA256:\n",
    "- TLS_- common prefix\n",
    "- AES_128_GCM - symmetric encryption with 128bit key in GCM mode\n",
    "- _SHA256 - hashing\n",
    "\n",
    "\n",
    "TLS ensures confidentiality with symmetric encryption (it's more efficient than assymetric encryption).\n",
    " \n",
    "### Key exchange\n",
    "Client and server must exchange a key that will be used with cipher suite for symmetric encryption.\n",
    "\n",
    "In TLS 1.2 key-distribution problem is solved by Diffie-Hellman key exchange or STATIC RSA key-exchange method (worse)\n",
    "\n",
    "In TLS 1.3 key-distribution problem is solved by Diffie-Hellman key exchange (Perfect Forward Secrecy)\n",
    "\n",
    "Diffie-Hellman key-exchange is one-roundtrip key-exchange algorithm that results in both nodes independently computing shared secret key for symmetric encryption.\n",
    " \n",
    " \n",
    "### Server authentication\n",
    "Server authenticates itself to client (browser) using public-key certificate that proves public-key ownership. Public-key certificate is created and issued by Certificate Authority. Applciation for public-key certificate is called CSR - Certificate Signing Request.\n",
    " \n"
   ]
  },
  {
   "cell_type": "code",
   "execution_count": null,
   "metadata": {},
   "outputs": [],
   "source": [
    "# Certificate in format X.509\n",
    "import ssl\n",
    "address = ('wikipedia.org', 443)\n",
    "certificate = ssl.get_server_certificate(address)\n",
    "print(certificate)"
   ]
  },
  {
   "cell_type": "markdown",
   "metadata": {},
   "source": [
    "To decode above certificate use \n",
    "\n",
    "```\n",
    "$ openssl.exe x509 -in server.crt -text -noout\n",
    "Certificate:\n",
    "    Data:\n",
    "        Version: 3 (0x2)\n",
    "        Serial Number:\n",
    "            02:7d:94:1b:29:2c:db:2e:da:f9:93:11:18:53:74:3e\n",
    "        Signature Algorithm: ecdsa-with-SHA384\n",
    "        Issuer: C = US, O = DigiCert Inc, CN = DigiCert TLS Hybrid ECC SHA384 2020 CA1\n",
    "        Validity\n",
    "            Not Before: Oct 19 00:00:00 2021 GMT\n",
    "            Not After : Nov 17 23:59:59 2022 GMT\n",
    "        Subject: C = US, ST = California, L = San Francisco, O = \"Wikimedia Foundation, Inc.\", CN = *.wikipedia.org\n",
    "        Subject Public Key Info:\n",
    "            Public Key Algorithm: id-ecPublicKey\n",
    "                Public-Key: (256 bit)\n",
    "                pub:\n",
    "                    04:e8:50:2c:d0:d2:4e:a2:b1:92:aa:b6:73:0f:cf:\n",
    "                    a0:b4:57:e5:c2:c0:7c:ae:6e:55:91:4a:a6:94:67:\n",
    "                    fa:a5:f8:b0:3f:46:ac:23:52:b4:48:3b:64:64:fb:\n",
    "                    ea:cd:e9:e4:fb:8f:10:a7:f4:e8:23:ba:95:29:6e:\n",
    "                    ef:ca:72:bb:83\n",
    "                ASN1 OID: prime256v1\n",
    "                NIST CURVE: P-256\n",
    "        X509v3 extensions:\n",
    "            X509v3 Authority Key Identifier:\n",
    "                keyid:0A:BC:08:29:17:8C:A5:39:6D:7A:0E:CE:33:C7:2E:B3:ED:FB:C3:7A\n",
    "\n",
    "            X509v3 Subject Key Identifier:\n",
    "                89:25:8E:F1:85:F9:7F:5C:D1:87:14:98:4A:5E:F4:1C:32:1D:51:44\n",
    "            X509v3 Subject Alternative Name:\n",
    "                DNS:*.wikipedia.org, DNS:wikimedia.org, DNS:mediawiki.org, DNS:wikibooks.org, DNS:wikidata.org, DNS:wikinews.org, DNS:wikiquote.org, DNS:wikisource.org, DNS:wikiversity.org, DNS:wikivoyage.org, DNS:wiktionary.org, DNS:wikimediafoundation.org, DNS:w.wiki, DNS:wmfusercontent.org, DNS:*.m.wikipedia.org, DNS:*.wikimedia.org, DNS:*.m.wikimedia.org, DNS:*.planet.wikimedia.org, DNS:*.mediawiki.org, DNS:*.m.mediawiki.org, DNS:*.wikibooks.org, DNS:*.m.wikibooks.org, DNS:*.wikidata.org, DNS:*.m.wikidata.org, DNS:*.wikinews.org, DNS:*.m.wikinews.org, DNS:*.wikiquote.org, DNS:*.m.wikiquote.org, DNS:*.wikisource.org, DNS:*.m.wikisource.org, DNS:*.wikiversity.org, DNS:*.m.wikiversity.org, DNS:*.wikivoyage.org, DNS:*.m.wikivoyage.org, DNS:*.wiktionary.org, DNS:*.m.wiktionary.org, DNS:*.wikimediafoundation.org, DNS:*.wmfusercontent.org, DNS:wikipedia.org\n",
    "            X509v3 Key Usage: critical\n",
    "                Digital Signature\n",
    "            X509v3 Extended Key Usage:\n",
    "                TLS Web Server Authentication, TLS Web Client Authentication\n",
    "            X509v3 CRL Distribution Points:\n",
    "\n",
    "                Full Name:\n",
    "                  URI:http://crl3.digicert.com/DigiCertTLSHybridECCSHA3842020CA1-1.crl\n",
    "\n",
    "                Full Name:\n",
    "                  URI:http://crl4.digicert.com/DigiCertTLSHybridECCSHA3842020CA1-1.crl\n",
    "\n",
    "            X509v3 Certificate Policies:\n",
    "                Policy: 2.23.140.1.2.2\n",
    "                  CPS: http://www.digicert.com/CPS\n",
    "\n",
    "            Authority Information Access:\n",
    "                OCSP - URI:http://ocsp.digicert.com\n",
    "                CA Issuers - URI:http://cacerts.digicert.com/DigiCertTLSHybridECCSHA3842020CA1-1.crt\n",
    "\n",
    "            X509v3 Basic Constraints: critical\n",
    "                CA:FALSE\n",
    "            CT Precertificate SCTs:\n",
    "                Signed Certificate Timestamp:\n",
    "                    Version   : v1 (0x0)\n",
    "                    Log ID    : 29:79:BE:F0:9E:39:39:21:F0:56:73:9F:63:A5:77:E5:\n",
    "                                BE:57:7D:9C:60:0A:F8:F9:4D:5D:26:5C:25:5D:C7:84\n",
    "                    Timestamp : Oct 19 16:24:26.110 2021 GMT\n",
    "                    Extensions: none\n",
    "                    Signature : ecdsa-with-SHA256\n",
    "                                30:45:02:20:13:2B:9F:D4:BF:5D:66:83:C7:35:3A:0E:\n",
    "                                8B:73:E7:EA:EA:41:D2:0F:7F:E0:25:DB:80:22:84:1C:\n",
    "                                A4:E7:A1:FE:02:21:00:83:55:AD:D4:1D:03:23:2C:4E:\n",
    "                                1A:6E:E6:FD:73:8F:1A:AF:90:4E:FE:1E:50:04:64:C4:\n",
    "                                4F:DA:42:B9:21:C1:02\n",
    "                Signed Certificate Timestamp:\n",
    "                    Version   : v1 (0x0)\n",
    "                    Log ID    : 51:A3:B0:F5:FD:01:79:9C:56:6D:B8:37:78:8F:0C:A4:\n",
    "                                7A:CC:1B:27:CB:F7:9E:88:42:9A:0D:FE:D4:8B:05:E5\n",
    "                    Timestamp : Oct 19 16:24:26.102 2021 GMT\n",
    "                    Extensions: none\n",
    "                    Signature : ecdsa-with-SHA256\n",
    "                                30:45:02:21:00:EC:ED:B1:2D:A6:3E:BC:5D:AE:0F:48:\n",
    "                                D5:70:5B:A4:E9:63:32:26:13:86:C6:D4:16:66:68:9C:\n",
    "                                64:67:60:2E:CC:02:20:16:9D:5E:15:79:A0:EB:95:D0:\n",
    "                                AA:50:11:40:E8:28:34:90:D8:E8:41:02:B5:A8:B0:FB:\n",
    "                                49:EE:28:DA:16:31:FF\n",
    "                Signed Certificate Timestamp:\n",
    "                    Version   : v1 (0x0)\n",
    "                    Log ID    : 41:C8:CA:B1:DF:22:46:4A:10:C6:A1:3A:09:42:87:5E:\n",
    "                                4E:31:8B:1B:03:EB:EB:4B:C7:68:F0:90:62:96:06:F6\n",
    "                    Timestamp : Oct 19 16:24:25.988 2021 GMT\n",
    "                    Extensions: none\n",
    "                    Signature : ecdsa-with-SHA256\n",
    "                                30:45:02:21:00:FE:13:FA:3E:0B:2F:1C:AC:71:06:D1:\n",
    "                                52:64:83:B3:B9:24:19:D6:A3:E5:22:A0:0F:13:50:04:\n",
    "                                6C:E0:C7:6D:8E:02:20:04:E2:BC:02:FE:5C:CE:92:35:\n",
    "                                71:EA:CE:1B:C6:B0:8A:25:E3:55:79:7F:31:FD:8D:29:\n",
    "                                E4:94:0F:76:EA:1F:2E\n",
    "    Signature Algorithm: ecdsa-with-SHA384\n",
    "         30:66:02:31:00:cd:aa:e8:16:18:0b:5e:de:24:bc:44:76:f3:\n",
    "         a3:e5:1e:a5:03:19:52:7e:fe:57:2c:0b:fe:e2:af:b4:67:3e:\n",
    "         6a:82:08:36:ce:01:60:30:8b:5b:a3:4e:50:27:1f:de:02:02:\n",
    "         31:00:8e:fb:20:28:7e:b5:cf:df:1f:90:99:09:83:b0:77:70:\n",
    "         6f:e0:94:3f:9d:59:7d:ca:6c:21:69:2e:69:d2:cc:0f:e9:ac:\n",
    "         53:c4:93:c2:9c:d6:83:96:e5:73:39:72:7d:9c\n",
    "```\n"
   ]
  },
  {
   "cell_type": "markdown",
   "metadata": {},
   "source": [
    "### Possible headers in X509 formated file\n",
    "\n",
    "- PEM_STRING_X509_OLD     \"X509 CERTIFICATE\"\n",
    "- PEM_STRING_X509         \"CERTIFICATE\"\n",
    "- PEM_STRING_X509_TRUSTED \"TRUSTED CERTIFICATE\"\n",
    "- PEM_STRING_X509_REQ_OLD \"NEW CERTIFICATE REQUEST\"\n",
    "- PEM_STRING_X509_REQ     \"CERTIFICATE REQUEST\"\n",
    "- PEM_STRING_X509_CRL     \"X509 CRL\"\n",
    "- PEM_STRING_EVP_PKEY     \"ANY PRIVATE KEY\"\n",
    "- PEM_STRING_PUBLIC       \"PUBLIC KEY\"\n",
    "- PEM_STRING_RSA          \"RSA PRIVATE KEY\"\n",
    "- PEM_STRING_RSA_PUBLIC   \"RSA PUBLIC KEY\"\n",
    "- PEM_STRING_DSA          \"DSA PRIVATE KEY\"\n",
    "- PEM_STRING_DSA_PUBLIC   \"DSA PUBLIC KEY\"\n",
    "- PEM_STRING_PKCS7        \"PKCS7\"\n",
    "- PEM_STRING_PKCS7_SIGNED \"PKCS #7 SIGNED DATA\"\n",
    "- PEM_STRING_PKCS8        \"ENCRYPTED PRIVATE KEY\"\n",
    "- PEM_STRING_PKCS8INF     \"PRIVATE KEY\"\n",
    "- PEM_STRING_DHPARAMS     \"DH PARAMETERS\"\n",
    "- PEM_STRING_DHXPARAMS    \"X9.42 DH PARAMETERS\"\n",
    "- PEM_STRING_SSL_SESSION  \"SSL SESSION PARAMETERS\"\n",
    "- PEM_STRING_DSAPARAMS    \"DSA PARAMETERS\"\n",
    "- PEM_STRING_ECDSA_PUBLIC \"ECDSA PUBLIC KEY\"\n",
    "- PEM_STRING_ECPARAMETERS \"EC PARAMETERS\"\n",
    "- PEM_STRING_ECPRIVATEKEY \"EC PRIVATE KEY\"\n",
    "- PEM_STRING_PARAMETERS   \"PARAMETERS\"\n",
    "- PEM_STRING_CMS          \"CMS\""
   ]
  },
  {
   "cell_type": "markdown",
   "metadata": {},
   "source": [
    "## Django\n",
    "Django runserver can't serve public-key certificate nor do TLS handshake. Use Gunicorn for that. WSGI generally holds certificate for Django.\n",
    "\n",
    "\n",
    "## Gunicorn\n",
    "Gunicorn server serves public-key certificate to client's browser. Nginx optionally can be a reverse-proxy. To use HTTPS public-key certificate needs to be installed for Gunicorn.\n",
    "\n",
    "Restart Gunicorn with keyfile and certfile:\n",
    "\n",
    "```\n",
    "gunicorn app.wsgi --keyfile private_key.pem --certfile certificate.pem\n",
    "```\n",
    "\n",
    "\n",
    "### Self-signed certificate\n",
    "Provides confidentiality without authentication. Easy and cheap to create eg. with ECC or RSA. Common name can be `localhost`. \n",
    "\n",
    "Create self-signed certificate and private key:\n",
    "```\n",
    "openssl ecparam -list_curves\n",
    "openssl ecparam -name secp521r1 -genkey -param_enc explicit -out private-key.pem\n",
    "openssl req -new -x509 -key private-key.pem -out server.pem -days 730\n",
    "```\n",
    "\n",
    "Examine the keys with:\n",
    "```\n",
    "openssl ecparam -in private-key.pem -text -noout\n",
    "openssl x509 -in server.pem -text -noout\n",
    "```\n",
    "\n",
    "In case specific server requires chained certificate and private key you can cat them together:\n",
    "```\n",
    "cat private-key.pem server.pem > server-private.pem\n",
    "```\n",
    "\n",
    "With this your connection will go through HTTPS but TLS handshake will fail because self-signed certificate is not trusted by your browser. You need to configure your OS to trust this certificate."
   ]
  },
  {
   "cell_type": "markdown",
   "metadata": {},
   "source": [
    "### HSTS\n",
    "Strict-Transport-Security response header\n",
    "\n",
    "Following header instructs browser to only accept HTTPS traffic for the next 3600 seconds and do that also for subdomains:\n",
    "`Strict-Transport-Security: max-age=3600; includeSubDomains`\n",
    "\n",
    "Can be configured with Django settings `SECURE_HSTS_SECONDS` and `SECURE_HSTS_INCLUDE_SUBDOMAINS`\n",
    "\n",
    "HSTS does not redirect initial client HTTP request.\n",
    "\n",
    "### HTTPS redirects\n",
    "Can be configured with Django settings `SECURE_SSL_REDIRECT`\n",
    "\n",
    "\n"
   ]
  },
  {
   "cell_type": "markdown",
   "metadata": {},
   "source": [
    "## Requests\n",
    "TLS is enabled by default if schema is HTTPS. To keep encryption but skip server authentication use `verify` option:\n",
    "```\n",
    "requests.get('https://www.python.org', verify=False)\n",
    "```\n",
    "To use custom CA Bundle add path to file or use environmental variable `REQUESTS_CA_BUNDLE`:\n",
    "```\n",
    "requests.get('https://www.python.org', verify='/path/to/ca_bundle_file')\n",
    "```\n",
    "- CA Bundle allows client (requests library) to authenticate server against CA listed in it.\n",
    "- CA Bundle - root and intermediate certificates combined in correct order - intermediate first, root second, NO SERVER CERTIFICATE here\n",
    "- CA Bundle combined with server certificate makes certificate chain (chain of trust)\n",
    "\n",
    "It's possible to additionally authenticate client by using `cert` tuple with server certificate and private key:\n",
    "```\n",
    "url = 'https://www.python.org'\n",
    "server_cert = ('/path/to/certificate.pem', '/path/to/private_key.pem')\n",
    "requests.get(url, cert=server_cert)\n",
    "```\n",
    "\n",
    "Two-way certificate verification:\n",
    "```\n",
    "requests.get(url, server_cert, verify=ca_bundle_path)\n",
    "```\n",
    "\n",
    "### Session\n",
    "```\n",
    "session = requests.Session()\n",
    "session.verify=False\n",
    "cert = ('/path/to/certificate.pem', '/path/to/private_key.pem')\n",
    "session.cert = cert\n",
    "```"
   ]
  },
  {
   "cell_type": "markdown",
   "metadata": {},
   "source": [
    "## Django database\n",
    "Usually db vendor specific options are available;\n",
    "```\n",
    "DATABASES = {\n",
    "    ...\n",
    "    \"OPTIONS\": {\n",
    "        \"sslmode\": \"verify-full\"}\n",
    "    }\n",
    "```"
   ]
  },
  {
   "cell_type": "markdown",
   "metadata": {},
   "source": [
    "## Django emails\n",
    "In Django set `EMAIL_USE_SSL` to use _Implicit TLS_ for SMTP (SMTPS) that will negotiate TLS connection to be used with `django.core.mail` module. TLS clients may or may not perform server authentication. Django doesn't for emails.\n",
    "\n",
    "It's possible to also enable client authentication with `EMAIL_SSL_KEYFILE` and `EMAIL_SSL_CERTFILE`. \n",
    "\n",
    "Use `EMAIL_HOST_USER` and `EMAIL_HOST_PASSWORD` only when TLS is enabled.\n"
   ]
  }
 ],
 "metadata": {
  "interpreter": {
   "hash": "d1ae3af205e27dfcf2138a3e341f35afb8a31389c942549ba24941a596005a09"
  },
  "kernelspec": {
   "display_name": "Python 3.9.6 64-bit",
   "name": "python3"
  },
  "language_info": {
   "codemirror_mode": {
    "name": "ipython",
    "version": 3
   },
   "file_extension": ".py",
   "mimetype": "text/x-python",
   "name": "python",
   "nbconvert_exporter": "python",
   "pygments_lexer": "ipython3",
   "version": "3.9.6"
  },
  "orig_nbformat": 4
 },
 "nbformat": 4,
 "nbformat_minor": 2
}
