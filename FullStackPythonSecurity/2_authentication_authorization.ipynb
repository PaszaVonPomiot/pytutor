{
 "cells": [
  {
   "cell_type": "markdown",
   "metadata": {},
   "source": [
    "# HTTP session management\n",
    "Server assigns session id to new users in response header:\n",
    "```\n",
    "Set-Cookie: sessionid=<cookie-value>\n",
    "```\n",
    "\n",
    "Cookies are sent back to server in every subsequent request header;\n",
    "```\n",
    "Cookie: sessionid=<cookie-value>; key=value;\n",
    "```\n",
    "\n",
    "Session sniffing - waiting for user login to use his session."
   ]
  },
  {
   "cell_type": "markdown",
   "metadata": {},
   "source": [
    "# User authentication"
   ]
  },
  {
   "cell_type": "markdown",
   "metadata": {},
   "source": [
    "# User password management"
   ]
  },
  {
   "cell_type": "markdown",
   "metadata": {},
   "source": [
    "# Authorization"
   ]
  },
  {
   "cell_type": "markdown",
   "metadata": {},
   "source": [
    "# OAuth 2"
   ]
  }
 ],
 "metadata": {
  "interpreter": {
   "hash": "d1ae3af205e27dfcf2138a3e341f35afb8a31389c942549ba24941a596005a09"
  },
  "kernelspec": {
   "display_name": "Python 3.9.6 64-bit",
   "name": "python3"
  },
  "language_info": {
   "name": "python",
   "version": "3.9.6"
  },
  "orig_nbformat": 4
 },
 "nbformat": 4,
 "nbformat_minor": 2
}
