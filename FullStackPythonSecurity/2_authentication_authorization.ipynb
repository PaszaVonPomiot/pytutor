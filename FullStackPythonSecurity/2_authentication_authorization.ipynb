{
 "cells": [
  {
   "cell_type": "markdown",
   "metadata": {},
   "source": [
    "# HTTP session management\n",
    "Server assigns session id to new users in response header and creates a cookie for session:\n",
    "```\n",
    "Set-Cookie: sessionid=<cookie-value>\n",
    "```\n",
    "\n",
    "Cookies are sent back to server in every subsequent request header;\n",
    "```\n",
    "Cookie: sessionid=<cookie-value>; key=value;\n",
    "```\n",
    "\n",
    "Session sniffing - waiting for user login to use his session id.\n",
    "\n"
   ]
  },
  {
   "cell_type": "markdown",
   "metadata": {},
   "source": [
    "\n",
    "## Cookie syntax\n",
    "- `Secure` cookie - will only be sent to server via HTTPS\n",
    "- Cookie will be rejected by client if `Domain` is different from server's.\n",
    "- `Path` indicates the path that must exist in the requested URL for the browser to send the Cookie header\n",
    "- Browser will expire cookie after number of seconds has passed (`Max-Age`) or at specific date (`Expires`). Those are _permanent cookies_\n",
    "- Cookies can be deleted when session ends/browser is closed - when `Max-Age` is not set. Those are _session cookies_. \n",
    "- `HttpOnly` forbids JavaScript from accessing the cookie.\n",
    "- `SameSite`: None, Lax, Strict - defines if broser should send back the cookie for third-party requests\n",
    "  - If the user is on www.web.dev and requests an image from static.web.dev then that is a same-site request.\n",
    "  - If the user is on your-project.github.io and requests an image from my-project.github.io that's a cross-site request\n",
    "  - Strict - Domain in URL bar equals the cookie’s domain (first-party) AND the link isn’t coming from a third-party\n",
    "  - Lax - Domain in URL bar equals the cookie’s domain (first-party)\n",
    "  - None - No domain limitations and third-party cookies can fire\n",
    "\n",
    "\n",
    "```\n",
    "Set-Cookie: <cookie-name>=<cookie-value>\n",
    "Set-Cookie: <cookie-name>=<cookie-value>; Expires=<date>\n",
    "Set-Cookie: <cookie-name>=<cookie-value>; Max-Age=<number>\n",
    "Set-Cookie: <cookie-name>=<cookie-value>; Domain=<domain-value>\n",
    "Set-Cookie: <cookie-name>=<cookie-value>; Path=<path-value>\n",
    "Set-Cookie: <cookie-name>=<cookie-value>; Secure\n",
    "Set-Cookie: <cookie-name>=<cookie-value>; HttpOnly\n",
    "\n",
    "Set-Cookie: <cookie-name>=<cookie-value>; SameSite=Strict\n",
    "Set-Cookie: <cookie-name>=<cookie-value>; SameSite=Lax\n",
    "Set-Cookie: <cookie-name>=<cookie-value>; SameSite=None; Secure\n",
    "\n",
    "// Multiple attributes are also possible, for example:\n",
    "Set-Cookie: <cookie-name>=<cookie-value>; Domain=<domain-value>; Secure; HttpOnly\n",
    "```\n",
    "\n",
    "Cookies are used for:\n",
    "- session management\n",
    "- personalization\n",
    "- tracking"
   ]
  },
  {
   "cell_type": "markdown",
   "metadata": {},
   "source": [
    "## Django session\n",
    "To manually set cookies use HttpResponse:\n",
    "```\n",
    "from django.http import HttpResponse\n",
    "\n",
    "response = HttpResponse()\n",
    "response.set_cookie(\n",
    "  'cookie-name',\n",
    "  'cookie-value',\n",
    "  secure=True,\n",
    "  domain='alice.com',\n",
    "  max_age=42, )\n",
    "```\n",
    "\n",
    "To retrieve session info use `session` object from request:\n",
    "```\n",
    "request.session['name'] = 'Alice'\n",
    "name = request.session.get('name', 'Bob')\n",
    "request.session['name'] = 'Charlie'\n",
    "del request.session['name']\n",
    "```\n",
    "\n",
    "\n",
    "\n",
    "Django uses `SESSION_SERIALIZER` -> `JSONSerializer` or `PickleSerializer`.\n",
    "\n",
    "Django persists sessions using selected `SESSION_ENGINE` eg. Database-based sessions.\n",
    "\n",
    "Django uses the `SECRET_KEY` setting for keyed hashing, not encryption\n"
   ]
  },
  {
   "cell_type": "markdown",
   "metadata": {},
   "source": [
    "# User authentication\n",
    "\n",
    "Use `django-registration` extension for account registration workflow\n",
    "\n",
    "Use default Django CBV's for handling login (eg. `LoginView`), logout and registration\n",
    "\n",
    "For requiring login use decorator for FBV and mixin for CBV\n",
    "```\n",
    "@login_required\n",
    "LoginRequiredMixin\n",
    "```\n",
    "\n",
    "For testing user authentication you can use\n",
    "```\n",
    "from django.contrib.auth import get_user_model\n",
    "from django.test import TestCase\n",
    "```"
   ]
  },
  {
   "cell_type": "markdown",
   "metadata": {},
   "source": [
    "# User password management\n",
    "\n",
    "Use built-in password change views eg. `PasswordChangeView`\n",
    "\n",
    "Use `AUTH_PASSWORD_VALIDATORS` to check password validity\n",
    "\n",
    "## Custom validator\n"
   ]
  },
  {
   "cell_type": "code",
   "execution_count": null,
   "metadata": {},
   "outputs": [],
   "source": [
    "from django.core.exceptions import ValidationError\n",
    "from django.utils.translation import gettext_lazy as _\n",
    "\n",
    "class PassphraseValidator:\n",
    "\n",
    "    def __init__(self, dictionary_file='/usr/share/dict/words'):\n",
    "        self.min_words = 4\n",
    "        with open(dictionary_file) as f:\n",
    "            self.words = set(word.strip() for word in f)\n",
    "\n",
    "    def get_help_text(self):\n",
    "        return _('Your password must contain %s words' % self.min_words)\n",
    "    \n",
    "    def validate(self, password, user=None):\n",
    "        tokens = password.split(' ')\n",
    "        \n",
    "        if len(tokens) < self.min_words:\n",
    "            too_short = _('This password needs %s words' % self.min_words)\n",
    "            raise ValidationError(too_short, code='too_short')\n",
    "\n",
    "        if not all(token in self.words for token in tokens):\n",
    "            not_passphrase = _('This password is not a passphrase')\n",
    "            raise ValidationError(not_passphrase, code='not_passphrase')"
   ]
  },
  {
   "cell_type": "markdown",
   "metadata": {},
   "source": [
    "# Authorization"
   ]
  },
  {
   "cell_type": "markdown",
   "metadata": {},
   "source": [
    "## Application-level authorization\n",
    "Django represents permissions with a built-in model known as Permission. The Permission model is the most atomic element of Django authorization. Each user can be associated with zero to many permissions. Permissions fall into two categories:\n",
    "- Default permissions, created automatically by Django\n",
    "- Custom permissions, created by you\n",
    "\n",
    "Django automatically creates four default permissions for each new model. These permissions are created behind the scenes when you run migrations. These permissions allow a user to create, read, update, and delete a model.\n",
    "\n",
    "Custom permissions can be added in `Meta` class of a model.\n",
    "\n",
    "Like default permissions, custom permissions are created automatically during migrations."
   ]
  },
  {
   "cell_type": "code",
   "execution_count": null,
   "metadata": {},
   "outputs": [],
   "source": [
    "class AuthenticatedMessage(Model):\n",
    "    message = CharField(max_length=100)\n",
    "    mac = CharField(max_length=64)\n",
    "\n",
    "    class Meta:\n",
    "        permissions = [\n",
    "            ('send_authenticatedmessage', 'Can send msgs'),\n",
    "            ('receive_authenticatedmessage', 'Can receive msgs'),\n",
    "        ]"
   ]
  },
  {
   "cell_type": "markdown",
   "metadata": {},
   "source": [
    "# OAuth 2"
   ]
  }
 ],
 "metadata": {
  "interpreter": {
   "hash": "d1ae3af205e27dfcf2138a3e341f35afb8a31389c942549ba24941a596005a09"
  },
  "kernelspec": {
   "display_name": "Python 3.9.6 64-bit",
   "name": "python3"
  },
  "language_info": {
   "codemirror_mode": {
    "name": "ipython",
    "version": 3
   },
   "file_extension": ".py",
   "mimetype": "text/x-python",
   "name": "python",
   "nbconvert_exporter": "python",
   "pygments_lexer": "ipython3",
   "version": "3.9.6"
  },
  "orig_nbformat": 4
 },
 "nbformat": 4,
 "nbformat_minor": 2
}
