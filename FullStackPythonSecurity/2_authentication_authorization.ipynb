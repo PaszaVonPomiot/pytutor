{
 "cells": [
  {
   "cell_type": "markdown",
   "source": [
    "# HTTP session management"
   ],
   "metadata": {}
  },
  {
   "cell_type": "markdown",
   "source": [
    "# User authentication"
   ],
   "metadata": {}
  },
  {
   "cell_type": "markdown",
   "source": [
    "# User password management"
   ],
   "metadata": {}
  },
  {
   "cell_type": "markdown",
   "source": [
    "# Authorization"
   ],
   "metadata": {}
  },
  {
   "cell_type": "markdown",
   "source": [
    "# OAuth 2"
   ],
   "metadata": {}
  }
 ],
 "metadata": {
  "orig_nbformat": 4,
  "language_info": {
   "name": "python",
   "version": "3.9.6"
  },
  "kernelspec": {
   "name": "python3",
   "display_name": "Python 3.9.6 64-bit"
  },
  "interpreter": {
   "hash": "d1ae3af205e27dfcf2138a3e341f35afb8a31389c942549ba24941a596005a09"
  }
 },
 "nbformat": 4,
 "nbformat_minor": 2
}