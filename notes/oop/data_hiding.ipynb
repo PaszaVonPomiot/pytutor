{
 "cells": [
  {
   "cell_type": "markdown",
   "metadata": {},
   "source": [
    "# Information hiding\n",
    "- data hiding is isolating the client from a part of program implementation\n",
    "- process of hiding the details of an object or function\n",
    "- hiding of these details results in an abstraction\n",
    "- information hiding effectively decouples the calling code from the internal workings of the object or function being called, which makes it possible to change the hidden portions without having to also change the calling code\n",
    "- some objects in the module are kept internal, invisible, and inaccessible to the user\n",
    "- encapsulation is a common technique programmers use to implement information hiding\n",
    "- class data members can be hidden by using double underscore prefix - `__hidden_data`"
   ]
  },
  {
   "cell_type": "code",
   "execution_count": null,
   "metadata": {},
   "outputs": [],
   "source": [
    "class Temp:\n",
    "    temp = 25\n",
    "    __temp = 35\n",
    "\n",
    "t = Temp()\n",
    "print(t.temp)\n",
    "print(t._Temp__temp)  # name mangling prevents direct access to t.__temp"
   ]
  },
  {
   "cell_type": "code",
   "execution_count": null,
   "metadata": {},
   "outputs": [],
   "source": [
    "class Temp:\n",
    "    temp = 25\n",
    "    __temp = 35\n",
    "\n",
    "t = Temp()\n",
    "print(t.__temp)  # this data is hidden"
   ]
  }
 ],
 "metadata": {
  "interpreter": {
   "hash": "d1ae3af205e27dfcf2138a3e341f35afb8a31389c942549ba24941a596005a09"
  },
  "kernelspec": {
   "display_name": "Python 3.9.6 64-bit",
   "name": "python3"
  },
  "language_info": {
   "codemirror_mode": {
    "name": "ipython",
    "version": 3
   },
   "file_extension": ".py",
   "mimetype": "text/x-python",
   "name": "python",
   "nbconvert_exporter": "python",
   "pygments_lexer": "ipython3",
   "version": "3.9.6"
  },
  "orig_nbformat": 4
 },
 "nbformat": 4,
 "nbformat_minor": 2
}
