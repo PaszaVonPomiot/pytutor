{
    "cells": [
        {
            "cell_type": "code",
            "execution_count": null,
            "source": [
                "class Base:\r\n",
                "    def __init__(self, a=2, b=5) -> None:\r\n",
                "        self.a = a\r\n",
                "        self.b = b\r\n",
                "\r\n",
                "    def add(self):\r\n",
                "        return self.a + self.b"
            ],
            "outputs": [],
            "metadata": {}
        },
        {
            "cell_type": "code",
            "execution_count": null,
            "source": [
                "class Inheritance(Base):\r\n",
                "    def __init__(self, a, b) -> None:\r\n",
                "        super().__init__(a=a, b=b)\r\n",
                "    pass\r\n",
                "\r\n",
                "class Composition:\r\n",
                "    def __init__(self) -> None:\r\n",
                "       self.base = Base()"
            ],
            "outputs": [],
            "metadata": {}
        }
    ],
    "metadata": {
        "orig_nbformat": 4,
        "language_info": {
            "name": "python"
        }
    },
    "nbformat": 4,
    "nbformat_minor": 2
}