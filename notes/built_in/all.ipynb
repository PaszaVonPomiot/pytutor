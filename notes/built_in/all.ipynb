{
 "cells": [
  {
   "cell_type": "code",
   "execution_count": 5,
   "metadata": {},
   "outputs": [
    {
     "data": {
      "text/plain": [
       "True"
      ]
     },
     "execution_count": 5,
     "metadata": {},
     "output_type": "execute_result"
    }
   ],
   "source": [
    "empty_list: list[str] = []\n",
    "all(empty_list)  # Checks if there are no False elements in the list\n",
    "# Since the list is empty, it returns True"
   ]
  },
  {
   "cell_type": "code",
   "execution_count": 6,
   "metadata": {},
   "outputs": [
    {
     "data": {
      "text/plain": [
       "False"
      ]
     },
     "execution_count": 6,
     "metadata": {},
     "output_type": "execute_result"
    }
   ],
   "source": [
    "mixed_list: list[int] = [1, 2, 0, 4, 5]\n",
    "all(mixed_list)  # False because there is a 0 in the list"
   ]
  },
  {
   "cell_type": "code",
   "execution_count": 7,
   "metadata": {},
   "outputs": [
    {
     "data": {
      "text/plain": [
       "False"
      ]
     },
     "execution_count": 7,
     "metadata": {},
     "output_type": "execute_result"
    }
   ],
   "source": [
    "mixed_list: list[int | None] = [1, 2, None, 4, 5]\n",
    "all(mixed_list)  # None is falsy"
   ]
  },
  {
   "cell_type": "code",
   "execution_count": 14,
   "metadata": {},
   "outputs": [
    {
     "data": {
      "text/plain": [
       "False"
      ]
     },
     "execution_count": 14,
     "metadata": {},
     "output_type": "execute_result"
    }
   ],
   "source": [
    "class SomeInt:\n",
    "    def __init__(self, value: int):\n",
    "        self.value = value\n",
    "\n",
    "    def __bool__(self):\n",
    "        return bool(self.value)\n",
    "\n",
    "\n",
    "objects = [SomeInt(1), SomeInt(2), SomeInt(0)]\n",
    "all(objects)  # False because SomeInt(0) is falsy"
   ]
  },
  {
   "cell_type": "code",
   "execution_count": null,
   "metadata": {},
   "outputs": [],
   "source": [
    "class Cart:\n",
    "    def __init__(self, items: list[str]):\n",
    "        self.items = items\n",
    "\n",
    "    def __len__(self):\n",
    "        return len([item for item in self.items if item != \"b\"])\n",
    "\n",
    "    def __bool__(self):\n",
    "        return \"a\" not in self.items\n",
    "\n",
    "\n",
    "objects = [Cart(items=[\"b\"])]\n",
    "all(objects)  # __bool__ seems to have higher priority than __len__"
   ]
  },
  {
   "cell_type": "code",
   "execution_count": null,
   "metadata": {},
   "outputs": [
    {
     "name": "stdout",
     "output_type": "stream",
     "text": [
      "non_empty_string is True\n",
      "empty_string is True\n"
     ]
    }
   ],
   "source": [
    "non_empty_string = \"hello\"\n",
    "empty_string = \"\"\n",
    "\n",
    "print(f\"non_empty_string is {all(non_empty_string)}\")  # True, all characters are truthy\n",
    "print(f\"empty_string is {all(empty_string)}\")  # True, just like empty list"
   ]
  },
  {
   "cell_type": "code",
   "execution_count": null,
   "metadata": {},
   "outputs": [],
   "source": [
    "nested_list: list[list[int]] = [[1, 2], [3, 4], []]\n",
    "all(\n",
    "    nested_list\n",
    ")  # the empty list is falsy in this case, since it does not recursively check the nested lists"
   ]
  },
  {
   "cell_type": "code",
   "execution_count": null,
   "metadata": {},
   "outputs": [],
   "source": [
    "numbers = (x > 0 for x in range(1, 10))\n",
    "print(all(numbers))  # all elements are > 0\n",
    "\n",
    "gen_with_falsy = (x > 0 for x in range(-5, 5))\n",
    "print(all(gen_with_falsy))  # -5 to -1 are falsy"
   ]
  }
 ],
 "metadata": {
  "kernelspec": {
   "display_name": ".venv",
   "language": "python",
   "name": "python3"
  },
  "language_info": {
   "codemirror_mode": {
    "name": "ipython",
    "version": 3
   },
   "file_extension": ".py",
   "mimetype": "text/x-python",
   "name": "python",
   "nbconvert_exporter": "python",
   "pygments_lexer": "ipython3",
   "version": "3.13.2"
  }
 },
 "nbformat": 4,
 "nbformat_minor": 2
}
