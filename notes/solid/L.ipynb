{
 "cells": [
  {
   "cell_type": "markdown",
   "metadata": {},
   "source": [
    "# Liskov Substitution Principle\n",
    "Child class (derived class, subclass) objects should be able to replace parent class objects without breaking the integrity of the application.\n",
    "\n",
    "Any code calling methods on objects of a specific type should continue to work when those objects get replaced with instances of a subtype.  A subtype is either a class extending another class or a class implementing an interface."
   ]
  },
  {
   "cell_type": "markdown",
   "metadata": {},
   "source": [
    "### LSP Smells\n",
    "- when subclass does not have some methods implemented from base class\n",
    "- when subclass implementation of a method raises exception\n",
    "- unexpected behaviour...\n"
   ]
  },
  {
   "cell_type": "code",
   "execution_count": 1,
   "metadata": {},
   "outputs": [
    {
     "name": "stdout",
     "output_type": "stream",
     "text": [
      "Send \"Hello John\" to (408)-888-9999\n",
      "Send \"Hi John\" to john@test.com\n"
     ]
    }
   ],
   "source": [
    "# LSP not violated ??????????????????\n",
    "\n",
    "from abc import ABC, abstractmethod\n",
    "\n",
    "\n",
    "class Notification(ABC):\n",
    "    @abstractmethod\n",
    "    def notify(self, message):\n",
    "        pass\n",
    "\n",
    "\n",
    "class Email(Notification):\n",
    "    def __init__(self, email):\n",
    "        self.email = email\n",
    "\n",
    "    def notify(self, message):\n",
    "        print(f'Send \"{message}\" to {self.email}')\n",
    "\n",
    "\n",
    "class SMS(Notification):\n",
    "    def __init__(self, phone):\n",
    "        self.phone = phone\n",
    "\n",
    "    def notify(self, message):\n",
    "        print(f'Send \"{message}\" to {self.phone}')\n",
    "\n",
    "\n",
    "class Contact:\n",
    "    def __init__(self, name, email, phone):\n",
    "        self.name = name\n",
    "        self.email = email\n",
    "        self.phone = phone\n",
    "\n",
    "\n",
    "class NotificationManager:\n",
    "    def __init__(self, notification):\n",
    "        self.notification = notification\n",
    "\n",
    "    def send(self, message):\n",
    "        self.notification.notify(message)\n",
    "\n",
    "\n",
    "if __name__ == '__main__':\n",
    "    contact = Contact('John Doe', 'john@test.com', '(408)-888-9999')\n",
    "\n",
    "    sms_notification = SMS(contact.phone)\n",
    "    email_notification = Email(contact.email)\n",
    "\n",
    "    notification_manager = NotificationManager(sms_notification)\n",
    "    notification_manager.send('Hello John')\n",
    "\n",
    "    notification_manager.notification = email_notification\n",
    "    notification_manager.send('Hi John')"
   ]
  }
 ],
 "metadata": {
  "interpreter": {
   "hash": "d1ae3af205e27dfcf2138a3e341f35afb8a31389c942549ba24941a596005a09"
  },
  "kernelspec": {
   "display_name": "Python 3.9.6 64-bit",
   "name": "python3"
  },
  "language_info": {
   "codemirror_mode": {
    "name": "ipython",
    "version": 3
   },
   "file_extension": ".py",
   "mimetype": "text/x-python",
   "name": "python",
   "nbconvert_exporter": "python",
   "pygments_lexer": "ipython3",
   "version": "3.9.6"
  },
  "orig_nbformat": 4
 },
 "nbformat": 4,
 "nbformat_minor": 2
}
