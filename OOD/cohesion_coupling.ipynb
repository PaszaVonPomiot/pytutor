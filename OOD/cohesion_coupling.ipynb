{
 "cells": [
  {
   "cell_type": "markdown",
   "source": [
    "## Modules\r\n",
    "Independent units that can be used to construct complex structure"
   ],
   "metadata": {}
  },
  {
   "cell_type": "markdown",
   "source": [
    "## Modularization\r\n",
    "Process of dividing software into multiple independent modules"
   ],
   "metadata": {}
  },
  {
   "cell_type": "markdown",
   "source": [
    "## Coupling\r\n",
    "- measure of the degree of interdependence between modules\r\n",
    "- degree to which one class knows about another class\r\n",
    "- how strongly a software element is connected to other elements\r\n",
    "\r\n",
    "If information is only exposed thourgh interfaces like data hiding - loosely coupled\r\n",
    "\r\n",
    "If information is exposed via data members directly - tightly coupled\r\n",
    "\r\n",
    "Thight coupling makes it more likely that code will stop working after the chagne"
   ],
   "metadata": {}
  },
  {
   "cell_type": "markdown",
   "source": [
    "## 5 types of coupling - from best to worst\r\n",
    "### Data coupling\r\n",
    "### Control coupling\r\n",
    "### External coupling\r\n",
    "### Common coupling\r\n",
    "### Content coupling"
   ],
   "metadata": {}
  },
  {
   "cell_type": "markdown",
   "source": [
    "## Cohesion\r\n",
    "- the degree to which the elements of a module belong together\r\n",
    "- measures the strength of relationship between pieces of functionality within a given module\r\n",
    "- high cohesion\r\n",
    "    - reduces complexity\r\n",
    "    - increases maintainability\r\n",
    "    - increases reusability"
   ],
   "metadata": {}
  },
  {
   "cell_type": "markdown",
   "source": [
    "## 7 types of cohesion - from high to low\r\n",
    "### Functional cohesion\r\n",
    "### Sequential cohesion\r\n",
    "### Communicational cohesion\r\n",
    "### Procedural cohesion\r\n",
    "### Temporal cohesion\r\n",
    "### Logical cohesion\r\n",
    "### Coincidental cohesion"
   ],
   "metadata": {}
  },
  {
   "cell_type": "markdown",
   "source": [
    "## Cohesion vs Coupling\r\n",
    "\r\n",
    "| Coupling                            | Cohesion                           |\r\n",
    "|-------------------------------------|------------------------------------|\r\n",
    "| Concept of inter module             | Concept of intra module            |\r\n",
    "| Relationships between modules       | Relationship within module         |\r\n",
    "| Increasing in coupling is avoided   | Increasing in cohesion             |\r\n",
    "| Independence among modules          | Functional strength of modules     |\r\n",
    "| Low coupling is good for software   | High cohesion is good for software |\r\n",
    "| Modules are connected to each other | Module focuses on the single thing |"
   ],
   "metadata": {}
  }
 ],
 "metadata": {
  "orig_nbformat": 4,
  "language_info": {
   "name": "python",
   "version": "3.9.6"
  },
  "kernelspec": {
   "name": "python3",
   "display_name": "Python 3.9.6 64-bit"
  },
  "interpreter": {
   "hash": "d1ae3af205e27dfcf2138a3e341f35afb8a31389c942549ba24941a596005a09"
  }
 },
 "nbformat": 4,
 "nbformat_minor": 2
}