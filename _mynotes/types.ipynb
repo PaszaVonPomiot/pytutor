{
 "cells": [
  {
   "cell_type": "markdown",
   "source": [
    "# Boolean type"
   ],
   "metadata": {}
  },
  {
   "cell_type": "markdown",
   "source": [
    "## `bool`\r\n",
    "- immutable"
   ],
   "metadata": {}
  },
  {
   "cell_type": "markdown",
   "source": [
    "# Numeric types"
   ],
   "metadata": {}
  },
  {
   "cell_type": "markdown",
   "source": [
    "## `int`\r\n",
    "- immutable"
   ],
   "metadata": {}
  },
  {
   "cell_type": "markdown",
   "source": [
    "## `float`\r\n",
    "- immutable"
   ],
   "metadata": {}
  },
  {
   "cell_type": "markdown",
   "source": [
    "## `complex`\r\n",
    "`complex([real[, imag]])`\r\n",
    "\r\n",
    "- immutable"
   ],
   "metadata": {}
  },
  {
   "cell_type": "code",
   "execution_count": 3,
   "source": [
    "complex(2,1)"
   ],
   "outputs": [
    {
     "output_type": "execute_result",
     "data": {
      "text/plain": [
       "(2+1j)"
      ]
     },
     "metadata": {},
     "execution_count": 3
    }
   ],
   "metadata": {}
  },
  {
   "cell_type": "markdown",
   "source": [
    "# Iterator types"
   ],
   "metadata": {}
  },
  {
   "cell_type": "markdown",
   "source": [
    "# Generator types"
   ],
   "metadata": {}
  },
  {
   "cell_type": "markdown",
   "source": [
    "# Sequence types"
   ],
   "metadata": {}
  },
  {
   "cell_type": "markdown",
   "source": [
    "## `list`\r\n",
    "- squence data type\r\n",
    "- mutable\r\n",
    "- usually contains sequence of homogenius objects\r\n",
    "- sequence unpacking works for list (on the right side)\r\n",
    "- usually accessed by iterating\r\n",
    "- implements common sequence operations"
   ],
   "metadata": {}
  },
  {
   "cell_type": "markdown",
   "source": [
    "## `tuple`\r\n",
    "- ordered sequence\r\n",
    "- immutable\r\n",
    "- tuple can contain object that is mutable\r\n",
    "- usually contains sequence of heterogenious objects\r\n",
    "- sequence unpacking works for tuples (on the right side)\r\n",
    "- usually accessed by unpacking"
   ],
   "metadata": {}
  },
  {
   "cell_type": "markdown",
   "source": [
    "## `range`"
   ],
   "metadata": {}
  },
  {
   "cell_type": "markdown",
   "source": [
    "# Binary sequence types"
   ],
   "metadata": {}
  },
  {
   "cell_type": "markdown",
   "source": [
    "## `bytes`"
   ],
   "metadata": {}
  },
  {
   "cell_type": "markdown",
   "source": [
    "## `bytearray`"
   ],
   "metadata": {}
  },
  {
   "cell_type": "markdown",
   "source": [
    "## `memoryview`"
   ],
   "metadata": {}
  },
  {
   "cell_type": "markdown",
   "source": [
    "# Text sequence types"
   ],
   "metadata": {}
  },
  {
   "cell_type": "markdown",
   "source": [
    "## `str`\r\n",
    "- ordered\r\n",
    "- immutable\r\n",
    "- iterable\r\n",
    "- can be represented as UTF-8 (default for Python 3) unicode code points (`''.decode()`) or encoded to bytes (`''.encode()` or `b''`)"
   ],
   "metadata": {}
  },
  {
   "cell_type": "markdown",
   "source": [
    "# Mapping types"
   ],
   "metadata": {}
  },
  {
   "cell_type": "markdown",
   "source": [
    "## `dict`\r\n",
    "- associative array\r\n",
    "- indexed by keys not numbers\r\n",
    "- keys are ordered\r\n",
    "- keys must be of immutable type (string, integer, float, tuples with only immutable types, frozenset)\r\n",
    "- values are mutable\r\n",
    "- keys are unique\r\n",
    "- dict is represented as hash-table where keys are hashed and values are not"
   ],
   "metadata": {}
  },
  {
   "cell_type": "markdown",
   "source": [
    "# Set types"
   ],
   "metadata": {}
  },
  {
   "cell_type": "markdown",
   "source": [
    "## `set`\r\n",
    "- unordered\r\n",
    "- mutable\r\n",
    "- collection of hashable objects\r\n",
    "- used for membership testing\r\n",
    "- used for removing duplicates\r\n",
    "- used for matehmatical operations\r\n",
    "- no indexing, no slicing\r\n"
   ],
   "metadata": {}
  },
  {
   "cell_type": "markdown",
   "source": [
    "## `frozenset`\r\n",
    "- immutable"
   ],
   "metadata": {}
  },
  {
   "cell_type": "markdown",
   "source": [
    "# ----------------------------"
   ],
   "metadata": {}
  },
  {
   "cell_type": "markdown",
   "source": [
    "## `namedtuple`"
   ],
   "metadata": {}
  }
 ],
 "metadata": {
  "orig_nbformat": 4,
  "language_info": {
   "name": "python",
   "version": "3.9.6",
   "mimetype": "text/x-python",
   "codemirror_mode": {
    "name": "ipython",
    "version": 3
   },
   "pygments_lexer": "ipython3",
   "nbconvert_exporter": "python",
   "file_extension": ".py"
  },
  "kernelspec": {
   "name": "python3",
   "display_name": "Python 3.9.6 64-bit"
  },
  "interpreter": {
   "hash": "d1ae3af205e27dfcf2138a3e341f35afb8a31389c942549ba24941a596005a09"
  }
 },
 "nbformat": 4,
 "nbformat_minor": 2
}