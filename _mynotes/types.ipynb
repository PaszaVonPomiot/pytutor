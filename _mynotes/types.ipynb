{
 "cells": [
  {
   "cell_type": "markdown",
   "metadata": {},
   "source": [
    "# Boolean type"
   ]
  },
  {
   "cell_type": "markdown",
   "metadata": {},
   "source": [
    "## `bool`\n",
    "- immutable\n",
    "- is subclass of int (True = 1, False = 0)\n",
    "- True + True + 1 is 3\n",
    "- True > False\n",
    "- comparison operators work (==, !=, >, <, >=, <=)\n",
    "- during conversion any non-zero object is evaluated as False (0, None, '', [], {}, (), set())\n",
    "- logical operators: and, or, not\n",
    "- casting other types to bool with bool(\"hello\")"
   ]
  },
  {
   "cell_type": "markdown",
   "metadata": {},
   "source": [
    "# Numeric types"
   ]
  },
  {
   "cell_type": "markdown",
   "metadata": {},
   "source": [
    "## `int`\n",
    "- immutable"
   ]
  },
  {
   "cell_type": "markdown",
   "metadata": {},
   "source": [
    "## `float`\n",
    "- immutable"
   ]
  },
  {
   "cell_type": "markdown",
   "metadata": {},
   "source": [
    "## `complex`\n",
    "`complex([real[, imag]])`\n",
    "\n",
    "- immutable"
   ]
  },
  {
   "cell_type": "code",
   "execution_count": 3,
   "metadata": {},
   "outputs": [
    {
     "data": {
      "text/plain": [
       "(2+1j)"
      ]
     },
     "execution_count": 3,
     "metadata": {},
     "output_type": "execute_result"
    }
   ],
   "source": [
    "complex(2,1)"
   ]
  },
  {
   "cell_type": "markdown",
   "metadata": {},
   "source": [
    "# Iterator types"
   ]
  },
  {
   "cell_type": "markdown",
   "metadata": {},
   "source": [
    "# Generator types"
   ]
  },
  {
   "cell_type": "markdown",
   "metadata": {},
   "source": [
    "# Sequence types"
   ]
  },
  {
   "cell_type": "markdown",
   "metadata": {},
   "source": [
    "## `list`\n",
    "- squence data type\n",
    "- mutable\n",
    "- usually contains sequence of homogenius objects\n",
    "- sequence unpacking works for list (on the right side)\n",
    "- usually accessed by iterating\n",
    "- implements common sequence operations"
   ]
  },
  {
   "cell_type": "markdown",
   "metadata": {},
   "source": [
    "## `tuple`\n",
    "- ordered sequence\n",
    "- immutable\n",
    "- tuple can contain object that is mutable\n",
    "- usually contains sequence of heterogenious objects\n",
    "- sequence unpacking works for tuples (on the right side)\n",
    "- usually accessed by unpacking"
   ]
  },
  {
   "cell_type": "markdown",
   "metadata": {},
   "source": [
    "## `range`"
   ]
  },
  {
   "cell_type": "markdown",
   "metadata": {},
   "source": [
    "# Binary sequence types"
   ]
  },
  {
   "cell_type": "markdown",
   "metadata": {},
   "source": [
    "## `bytes`"
   ]
  },
  {
   "cell_type": "markdown",
   "metadata": {},
   "source": [
    "## `bytearray`"
   ]
  },
  {
   "cell_type": "markdown",
   "metadata": {},
   "source": [
    "## `memoryview`"
   ]
  },
  {
   "cell_type": "markdown",
   "metadata": {},
   "source": [
    "# Text sequence types"
   ]
  },
  {
   "cell_type": "markdown",
   "metadata": {},
   "source": [
    "## `str`\n",
    "- ordered\n",
    "- immutable\n",
    "- iterable\n",
    "- can be represented as UTF-8 (default for Python 3) unicode code points (`''.decode()`) or encoded to bytes (`''.encode()` or `b''`)"
   ]
  },
  {
   "cell_type": "markdown",
   "metadata": {},
   "source": [
    "# Mapping types"
   ]
  },
  {
   "cell_type": "markdown",
   "metadata": {},
   "source": [
    "## `dict`\n",
    "- associative array\n",
    "- indexed by keys not numbers\n",
    "- keys are ordered\n",
    "- keys must be of immutable type (string, integer, float, tuples with only immutable types, frozenset)\n",
    "- values are mutable\n",
    "- keys are unique\n",
    "- dict is represented as hash-table where keys are hashed and values are not"
   ]
  },
  {
   "cell_type": "markdown",
   "metadata": {},
   "source": [
    "# Set types"
   ]
  },
  {
   "cell_type": "markdown",
   "metadata": {},
   "source": [
    "## `set`\n",
    "- unordered\n",
    "- mutable\n",
    "- collection of hashable objects\n",
    "- used for membership testing\n",
    "- used for removing duplicates\n",
    "- used for matehmatical operations\n",
    "- no indexing, no slicing\n"
   ]
  },
  {
   "cell_type": "markdown",
   "metadata": {},
   "source": [
    "## `frozenset`\n",
    "- immutable"
   ]
  },
  {
   "cell_type": "markdown",
   "metadata": {},
   "source": [
    "# ----------------------------"
   ]
  },
  {
   "cell_type": "markdown",
   "metadata": {},
   "source": [
    "## `namedtuple`"
   ]
  }
 ],
 "metadata": {
  "interpreter": {
   "hash": "d1ae3af205e27dfcf2138a3e341f35afb8a31389c942549ba24941a596005a09"
  },
  "kernelspec": {
   "display_name": "Python 3.9.6 64-bit",
   "name": "python3"
  },
  "language_info": {
   "codemirror_mode": {
    "name": "ipython",
    "version": 3
   },
   "file_extension": ".py",
   "mimetype": "text/x-python",
   "name": "python",
   "nbconvert_exporter": "python",
   "pygments_lexer": "ipython3",
   "version": "3.9.6"
  },
  "orig_nbformat": 4
 },
 "nbformat": 4,
 "nbformat_minor": 2
}
