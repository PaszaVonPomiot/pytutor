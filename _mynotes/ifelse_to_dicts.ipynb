{
 "cells": [
  {
   "cell_type": "markdown",
   "metadata": {},
   "source": [
    "# dict instead of multiple if/else"
   ]
  },
  {
   "cell_type": "code",
   "execution_count": null,
   "metadata": {},
   "outputs": [],
   "source": [
    "def one():\n",
    "    return 1\n",
    "\n",
    "def two():\n",
    "    return 2\n",
    "\n",
    "def three():\n",
    "    return 3\n",
    "\n",
    "\n",
    "x = 1\n",
    "\n",
    "if x == 1:\n",
    "    one()\n",
    "elif x == 2:\n",
    "    two()\n",
    "else:\n",
    "    three()"
   ]
  },
  {
   "cell_type": "code",
   "execution_count": null,
   "metadata": {},
   "outputs": [],
   "source": [
    "def one():\n",
    "    return 1\n",
    "\n",
    "def two():\n",
    "    return 2\n",
    "\n",
    "def three():\n",
    "    return 3\n",
    "\n",
    "\n",
    "x = 1\n",
    "\n",
    "actions = {\n",
    "    1: one,\n",
    "    2: two,\n",
    "}\n",
    "\n",
    "action = actions.get(x, three)\n",
    "action()"
   ]
  }
 ],
 "metadata": {
  "language_info": {
   "name": "python"
  },
  "orig_nbformat": 4
 },
 "nbformat": 4,
 "nbformat_minor": 2
}
