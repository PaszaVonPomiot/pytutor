{
 "cells": [
  {
   "cell_type": "markdown",
   "source": [
    "# Function Argument Unpacking\r\n",
    "\r\n",
    "`*` in function call it upacks iterables (lists, tuples, generator expressions, dictionary keys)\r\n",
    "into positional arguments\r\n",
    "\r\n",
    "`**` in function call unpacks dictionaries into keyword arguments"
   ],
   "metadata": {}
  },
  {
   "cell_type": "code",
   "execution_count": null,
   "source": [
    "tuple_vec = 2, 5, 7\r\n",
    "print(*tuple_vec)\r\n",
    "\r\n",
    "genexpr = (x * x for x in range(5))\r\n",
    "print(*genexpr)"
   ],
   "outputs": [],
   "metadata": {}
  }
 ],
 "metadata": {
  "orig_nbformat": 4,
  "language_info": {
   "name": "python",
   "version": "3.9.6"
  },
  "kernelspec": {
   "name": "python3",
   "display_name": "Python 3.9.6 64-bit"
  },
  "interpreter": {
   "hash": "d1ae3af205e27dfcf2138a3e341f35afb8a31389c942549ba24941a596005a09"
  }
 },
 "nbformat": 4,
 "nbformat_minor": 2
}