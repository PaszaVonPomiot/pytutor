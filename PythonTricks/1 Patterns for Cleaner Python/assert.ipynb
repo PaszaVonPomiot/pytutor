{
 "cells": [
  {
   "cell_type": "markdown",
   "source": [
    "# Covering Your A** With Assertions\r\n",
    "\r\n",
    "Python’s `assert` statement is a debugging aid that tests a condition as an internal self-check in your program.\r\n",
    "Asserts should only be used to help developers identify bugs.\r\n",
    "They’re not a mechanism for handling run-time errors.\r\n",
    "Asserts can be globally disabled with an interpreter setting.\r\n",
    "\r\n",
    "Use only for unrecoverable errors and for debug purposes, not as main app logic.\r\n",
    "Assert works only if global variable `__debug__ = True`.\r\n",
    "Assert is skipped for `-O`, `-OO` switches or `PYTHONOPTIMIZE` env variable.\r\n",
    "\r\n",
    "Don't used `assert` for code that should never be skipped."
   ],
   "metadata": {}
  },
  {
   "cell_type": "code",
   "execution_count": 1,
   "source": [
    "assert 1 > 2, \"AssertionError: should show up\""
   ],
   "outputs": [
    {
     "output_type": "error",
     "ename": "AssertionError",
     "evalue": "AssertionError: should show up",
     "traceback": [
      "\u001b[1;31m---------------------------------------------------------------------------\u001b[0m",
      "\u001b[1;31mAssertionError\u001b[0m                            Traceback (most recent call last)",
      "\u001b[1;32m~\\AppData\\Local\\Temp/ipykernel_8732/1725174423.py\u001b[0m in \u001b[0;36m<module>\u001b[1;34m\u001b[0m\n\u001b[1;32m----> 1\u001b[1;33m \u001b[1;32massert\u001b[0m \u001b[1;36m1\u001b[0m \u001b[1;33m>\u001b[0m \u001b[1;36m2\u001b[0m\u001b[1;33m,\u001b[0m \u001b[1;34m\"AssertionError: should show up\"\u001b[0m\u001b[1;33m\u001b[0m\u001b[1;33m\u001b[0m\u001b[0m\n\u001b[0m",
      "\u001b[1;31mAssertionError\u001b[0m: AssertionError: should show up"
     ]
    }
   ],
   "metadata": {}
  }
 ],
 "metadata": {
  "orig_nbformat": 4,
  "language_info": {
   "name": "python",
   "version": "3.9.6",
   "mimetype": "text/x-python",
   "codemirror_mode": {
    "name": "ipython",
    "version": 3
   },
   "pygments_lexer": "ipython3",
   "nbconvert_exporter": "python",
   "file_extension": ".py"
  },
  "kernelspec": {
   "name": "python3",
   "display_name": "Python 3.9.6 64-bit"
  },
  "interpreter": {
   "hash": "d1ae3af205e27dfcf2138a3e341f35afb8a31389c942549ba24941a596005a09"
  }
 },
 "nbformat": 4,
 "nbformat_minor": 2
}