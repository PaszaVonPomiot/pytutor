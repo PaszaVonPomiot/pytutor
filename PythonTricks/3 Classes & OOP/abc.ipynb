{
 "cells": [
  {
   "cell_type": "markdown",
   "source": [
    "## Abstract Base Classes"
   ],
   "metadata": {}
  },
  {
   "cell_type": "markdown",
   "source": [
    "`abc.ABC` prevents base class from being instantiated directly; needs to be subclassed\r\n",
    "\r\n",
    "`abc.abstractmethod` forces implementation of method before instantiation"
   ],
   "metadata": {}
  },
  {
   "cell_type": "code",
   "execution_count": null,
   "source": [
    "from abc import ABC, abstractmethod\r\n",
    "\r\n",
    "# ABC is helper class so that you don't have to use metaclass syntax\r\n",
    "class Base(ABC):\r\n",
    "    @abstractmethod\r\n",
    "    def foo(self):\r\n",
    "        pass\r\n",
    "    @abstractmethod\r\n",
    "    def bar(self):\r\n",
    "        pass\r\n",
    "\r\n",
    "class Concrete(Base):\r\n",
    "    def foo(self):\r\n",
    "        pass\r\n",
    "\r\n",
    "# TypeError because bar() is not implemented\r\n",
    "c = Concrete()"
   ],
   "outputs": [],
   "metadata": {}
  },
  {
   "cell_type": "markdown",
   "source": [
    "## Standard Base Classes\r\n",
    "\r\n",
    "Will not throw error at the instatiation if method is not implemented. Only at usage."
   ],
   "metadata": {}
  },
  {
   "cell_type": "code",
   "execution_count": null,
   "source": [
    "class Base:\r\n",
    "    def foo(self):\r\n",
    "        raise NotImplementedError()\r\n",
    "    def bar(self):\r\n",
    "        raise NotImplementedError()\r\n",
    "\r\n",
    "class Concrete(Base):\r\n",
    "    def foo(self):\r\n",
    "        return 'foo() called'\r\n",
    "\r\n",
    "c = Concrete()"
   ],
   "outputs": [],
   "metadata": {}
  }
 ],
 "metadata": {
  "orig_nbformat": 4,
  "language_info": {
   "name": "python",
   "version": "3.9.6",
   "mimetype": "text/x-python",
   "codemirror_mode": {
    "name": "ipython",
    "version": 3
   },
   "pygments_lexer": "ipython3",
   "nbconvert_exporter": "python",
   "file_extension": ".py"
  },
  "kernelspec": {
   "name": "python3",
   "display_name": "Python 3.9.6 64-bit"
  },
  "interpreter": {
   "hash": "d1ae3af205e27dfcf2138a3e341f35afb8a31389c942549ba24941a596005a09"
  }
 },
 "nbformat": 4,
 "nbformat_minor": 2
}