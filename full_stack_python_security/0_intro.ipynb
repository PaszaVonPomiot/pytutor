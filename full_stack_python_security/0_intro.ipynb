{
 "cells": [
  {
   "cell_type": "markdown",
   "source": [
    "# Security fundamentals\r\n",
    "- Authentication - verifying identity of someone or something (Who are you?)\r\n",
    "- Authorization/Access control - way of controling access to actions that can be performed (What can you do?)\r\n",
    "- Data/message integrity - assurance that data is free of unintended modification (Has the data changed?)\r\n",
    "- Data/message authentication - data reader can verify the identity of the data writer (Who authored this data?)\r\n",
    "- Nonrepudiation - assurance that actor has no way of denying their actions (Who did what?)\r\n",
    "- Confidentiality - how private is or should be the data exchange between two parties (Who can access this?)"
   ],
   "metadata": {}
  }
 ],
 "metadata": {
  "orig_nbformat": 4,
  "language_info": {
   "name": "python",
   "version": "3.9.6"
  },
  "kernelspec": {
   "name": "python3",
   "display_name": "Python 3.9.6 64-bit"
  },
  "interpreter": {
   "hash": "d1ae3af205e27dfcf2138a3e341f35afb8a31389c942549ba24941a596005a09"
  }
 },
 "nbformat": 4,
 "nbformat_minor": 2
}