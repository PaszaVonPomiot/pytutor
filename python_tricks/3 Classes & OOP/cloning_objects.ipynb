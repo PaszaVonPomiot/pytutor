{
 "cells": [
  {
   "cell_type": "markdown",
   "source": [
    "# Cloning objects"
   ],
   "metadata": {}
  },
  {
   "cell_type": "markdown",
   "source": [
    "Assignment statements in Python do not create copies of objects, they only bind names to an object.\r\n",
    "\r\n",
    "## Shallow copy\r\n",
    "Shallow copy creates new object and populates it with references to child objects of original. Only collection object is a new object.\r\n",
    "\r\n",
    "In order to shallow copy mutable Python collections you can call their factory functions on existing collections.\r\n",
    "\r\n",
    "Shallow copied list is not fully independent."
   ],
   "metadata": {}
  },
  {
   "cell_type": "code",
   "execution_count": null,
   "source": [
    "original_list = [1, 2 , [3]]\r\n",
    "original_dict = {\"a\": 1, \"b\": 2, \"c\": 3}\r\n",
    "original_set = {1, 2, 3}\r\n",
    "\r\n",
    "new_list = list(original_list)\r\n",
    "new_dict = dict(original_dict)\r\n",
    "new_set = set(original_set)"
   ],
   "outputs": [],
   "metadata": {}
  },
  {
   "cell_type": "code",
   "execution_count": null,
   "source": [
    "original_list = [1, 2 , [3]]  # nested element\r\n",
    "new_list = list(original_list)\r\n",
    "\r\n",
    "original_list[0] = \"X\"\r\n",
    "original_list[2][0] = \"Y\"\r\n",
    "\r\n",
    "print(original_list)\r\n",
    "print(new_list)"
   ],
   "outputs": [],
   "metadata": {}
  },
  {
   "cell_type": "markdown",
   "source": [
    "## Deep copy\r\n",
    "Deep copy creates a new collection object and then recursively populates it with copies of the child objects found in the original. Both collection object and its recursive content are new objects.\r\n",
    "\r\n",
    "Deep copied list is fully independent."
   ],
   "metadata": {}
  },
  {
   "cell_type": "code",
   "execution_count": 25,
   "source": [
    "import copy\r\n",
    "original_list = [1, 2 , [3]]\r\n",
    "new_list = copy.deepcopy(original_list)\r\n",
    "\r\n",
    "original_list[0] = \"X\"\r\n",
    "original_list[2][0] = \"Y\"\r\n",
    "\r\n",
    "print(original_list)\r\n",
    "print(new_list)"
   ],
   "outputs": [
    {
     "output_type": "stream",
     "name": "stdout",
     "text": [
      "['X', 2, ['Y']]\n",
      "[1, 2, [3]]\n"
     ]
    }
   ],
   "metadata": {}
  },
  {
   "cell_type": "markdown",
   "source": [
    "You can copy arbitrary objects like classes using shallow or deep copy from `copy` module"
   ],
   "metadata": {}
  }
 ],
 "metadata": {
  "orig_nbformat": 4,
  "language_info": {
   "name": "python",
   "version": "3.9.6",
   "mimetype": "text/x-python",
   "codemirror_mode": {
    "name": "ipython",
    "version": 3
   },
   "pygments_lexer": "ipython3",
   "nbconvert_exporter": "python",
   "file_extension": ".py"
  },
  "kernelspec": {
   "name": "python3",
   "display_name": "Python 3.9.6 64-bit"
  },
  "interpreter": {
   "hash": "d1ae3af205e27dfcf2138a3e341f35afb8a31389c942549ba24941a596005a09"
  }
 },
 "nbformat": 4,
 "nbformat_minor": 2
}