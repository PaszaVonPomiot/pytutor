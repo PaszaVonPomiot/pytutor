{
 "cells": [
  {
   "cell_type": "markdown",
   "source": [
    "# Defining Your Own Exception Classes"
   ],
   "metadata": {}
  },
  {
   "cell_type": "markdown",
   "source": [
    "Define exception with descriptive name based on generic `Exception` or more specific `ValueError` or `TypeError`"
   ],
   "metadata": {}
  },
  {
   "cell_type": "code",
   "execution_count": null,
   "source": [
    "class NameTooShortError(ValueError):\r\n",
    "    pass\r\n",
    "\r\n",
    "def validate(name):\r\n",
    "    if len(name) < 10:\r\n",
    "        # name in the constructor\r\n",
    "        raise NameTooShortError(name)\r\n",
    "\r\n",
    "validate('Nikita')"
   ],
   "outputs": [],
   "metadata": {}
  },
  {
   "cell_type": "markdown",
   "source": [
    "For own module you can create hierarchy of exceptions so that you can catch whole category of concrete exceptions"
   ],
   "metadata": {}
  },
  {
   "cell_type": "code",
   "execution_count": 10,
   "source": [
    "class BaseValidationError(ValueError):\r\n",
    "    pass\r\n",
    "\r\n",
    "class NameTooShortError(BaseValidationError):\r\n",
    "    pass\r\n",
    "class NameTooLongError(BaseValidationError):\r\n",
    "    pass\r\n",
    "\r\n",
    "def validate(name):\r\n",
    "    if len(name) < 5:\r\n",
    "        # name in the constructor\r\n",
    "        raise NameTooShortError(name)\r\n",
    "    elif len(name) > 10:\r\n",
    "        raise NameTooLongError(name)\r\n",
    "\r\n",
    "try:\r\n",
    "    validate('1234')\r\n",
    "except BaseValidationError as err:\r\n",
    "    print(err)"
   ],
   "outputs": [
    {
     "output_type": "stream",
     "name": "stdout",
     "text": [
      "sev\n"
     ]
    }
   ],
   "metadata": {}
  },
  {
   "cell_type": "code",
   "execution_count": null,
   "source": [],
   "outputs": [],
   "metadata": {}
  }
 ],
 "metadata": {
  "orig_nbformat": 4,
  "language_info": {
   "name": "python",
   "version": "3.9.6",
   "mimetype": "text/x-python",
   "codemirror_mode": {
    "name": "ipython",
    "version": 3
   },
   "pygments_lexer": "ipython3",
   "nbconvert_exporter": "python",
   "file_extension": ".py"
  },
  "kernelspec": {
   "name": "python3",
   "display_name": "Python 3.9.6 64-bit"
  },
  "interpreter": {
   "hash": "d1ae3af205e27dfcf2138a3e341f35afb8a31389c942549ba24941a596005a09"
  }
 },
 "nbformat": 4,
 "nbformat_minor": 2
}