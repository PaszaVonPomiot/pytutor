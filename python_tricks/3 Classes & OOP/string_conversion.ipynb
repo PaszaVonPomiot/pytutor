{
 "cells": [
  {
   "cell_type": "markdown",
   "source": [
    "# String Conversion  (Every Class Needs a `__repr__`)"
   ],
   "metadata": {}
  },
  {
   "cell_type": "markdown",
   "source": [
    "`str()` calls `__str__` method in pythonic way\r\n",
    "`repr()` calls `__repr__` method in pythonic way\r\n",
    "\r\n",
    "`__str__` is string conversion dunder method that should be readable. Ideally it should be pretty string representation of an object for users eg. '2021-08-02'\r\n",
    "\r\n",
    "`__repr__` is string conversion dunder method that should be unambiguous. Ideally it should be complete string representation of an object so that `eval()` can create it. It should be useful for developers.\r\n",
    "eg. `'datetime.date(2021, 8, 2)'`"
   ],
   "metadata": {}
  },
  {
   "cell_type": "code",
   "execution_count": null,
   "source": [
    "import datetime\r\n",
    "\r\n",
    "today = datetime.date.today()\r\n",
    "str(today)  # '2021-08-02'\r\n",
    "repr(today)  # 'datetime.date(2021, 8, 2)'"
   ],
   "outputs": [],
   "metadata": {}
  },
  {
   "cell_type": "markdown",
   "source": [
    "Always add a `__repr__` to your classes. \r\n",
    "The default implementation for `__str__` just calls `__repr__` "
   ],
   "metadata": {}
  },
  {
   "cell_type": "code",
   "execution_count": null,
   "source": [
    "class Car:\r\n",
    "    def __init__(self, color) -> None:\r\n",
    "        self.color = color\r\n",
    "\r\n",
    "    def __str__(self) -> str:\r\n",
    "        return f\"__str__ {self.color}\"\r\n",
    "\r\n",
    "    def __repr__(self) -> str:\r\n",
    "        return f\"__repr__ {self.color}\"\r\n",
    "\r\n",
    "\r\n",
    "car = Car(\"red\")\r\n",
    "\r\n",
    "# repr conversion\r\n",
    "car\r\n",
    "repr(car)\r\n",
    "f\"{car!r}\"\r\n",
    "[car]\r\n",
    "(car,)\r\n",
    "{car: 1}\r\n",
    "\r\n",
    "# str conversion\r\n",
    "str(car)\r\n",
    "print(car)\r\n",
    "f\"{car!s}\""
   ],
   "outputs": [],
   "metadata": {}
  },
  {
   "cell_type": "markdown",
   "source": [
    "Use conversion flag to explicitly call str or repr conversions"
   ],
   "metadata": {}
  },
  {
   "cell_type": "code",
   "execution_count": null,
   "source": [
    "f\"{car!s}\"\r\n",
    "f\"{car!r}\""
   ],
   "outputs": [],
   "metadata": {}
  },
  {
   "cell_type": "markdown",
   "source": [
    "The default `__repr__` implementation is useless"
   ],
   "metadata": {}
  },
  {
   "cell_type": "code",
   "execution_count": null,
   "source": [
    "class Animal:\r\n",
    "    pass\r\n",
    "\r\n",
    "animal = Animal()\r\n",
    "str(animal)"
   ],
   "outputs": [],
   "metadata": {}
  }
 ],
 "metadata": {
  "orig_nbformat": 4,
  "language_info": {
   "name": "python",
   "version": "3.9.6"
  },
  "kernelspec": {
   "name": "python3",
   "display_name": "Python 3.9.6 64-bit"
  },
  "interpreter": {
   "hash": "d1ae3af205e27dfcf2138a3e341f35afb8a31389c942549ba24941a596005a09"
  }
 },
 "nbformat": 4,
 "nbformat_minor": 2
}