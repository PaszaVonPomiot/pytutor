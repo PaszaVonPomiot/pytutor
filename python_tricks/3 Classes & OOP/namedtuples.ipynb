{
 "cells": [
  {
   "cell_type": "markdown",
   "source": [
    "# Namedtuples"
   ],
   "metadata": {}
  },
  {
   "cell_type": "markdown",
   "source": [
    "Namedtuples work like regular tuples but allow using field names instead of just indices. Use namedtuples to add meaningful fields to tuples but avoid complexity of building a class. Eg. to 2D point could be named tuple with easy equality check without having to implement `__eq__` method in a class. Also accessing attribute is easy like `point.x`\r\n",
    "\r\n",
    "Namedtuple immutable objects are implemented as regular Python classes internally. \r\n",
    "\r\n",
    "When it comes to memory usage, they are also “better” than regular classes and just as memory efficient as regular tuples.\r\n",
    "\r\n",
    "Create new data type factory function using `namedtuple()` factory function"
   ],
   "metadata": {}
  },
  {
   "cell_type": "code",
   "execution_count": null,
   "source": [
    "from collections import namedtuple\r\n",
    "\r\n",
    "# \"Car\" is typename that will appear in __repr__\r\n",
    "Car = namedtuple(\"Car\", [\"brand\", \"mileage\", \"color\"])\r\n",
    "mycar = Car('tesla', 124556, 'pink')\r\n",
    "print(mycar)"
   ],
   "outputs": [],
   "metadata": {}
  },
  {
   "cell_type": "markdown",
   "source": [
    "Shorthand with iteration"
   ],
   "metadata": {}
  },
  {
   "cell_type": "code",
   "execution_count": 4,
   "source": [
    "# shorthand\r\n",
    "Car = namedtuple(\"Car\", \"brand mileage color\")\r\n",
    "mycar = Car('tesla', 124556, 'pink')\r\n",
    "print(mycar.color)\r\n",
    "print(mycar[2])"
   ],
   "outputs": [
    {
     "output_type": "stream",
     "name": "stdout",
     "text": [
      "pink\n",
      "pink\n"
     ]
    }
   ],
   "metadata": {}
  },
  {
   "cell_type": "markdown",
   "source": [
    "Packing and unpacking of namedtuple works"
   ],
   "metadata": {}
  },
  {
   "cell_type": "code",
   "execution_count": null,
   "source": [
    "Car = namedtuple(\"Car\", \"brand mileage color\")\r\n",
    "mycar = Car('tesla', 124556, 'pink')\r\n",
    "\r\n",
    "brand = \"fiat\"\r\n",
    "mileage = 1000\r\n",
    "color = \"red\"\r\n",
    "color, brand, mileage = mycar\r\n",
    "\r\n",
    "print(mycar)\r\n",
    "print(*mycar)"
   ],
   "outputs": [],
   "metadata": {}
  },
  {
   "cell_type": "markdown",
   "source": [
    "Namedtuples are immutable"
   ],
   "metadata": {}
  },
  {
   "cell_type": "code",
   "execution_count": null,
   "source": [
    "Car = namedtuple(\"Car\", \"brand mileage color\")\r\n",
    "mycar = Car('tesla', 124556, 'pink')\r\n",
    "mycar.color = \"red\""
   ],
   "outputs": [],
   "metadata": {}
  },
  {
   "cell_type": "markdown",
   "source": [
    "To inspect what fields are in namedtuple print `_fields` attribute"
   ],
   "metadata": {}
  },
  {
   "cell_type": "code",
   "execution_count": null,
   "source": [
    "Car = namedtuple(\"Car\", \"brand mileage color\")\r\n",
    "Car._fields"
   ],
   "outputs": [],
   "metadata": {}
  },
  {
   "cell_type": "markdown",
   "source": [
    "Internally namedtuple is a class therefore it's possible to subclass it. But usually it's not recommended."
   ],
   "metadata": {}
  },
  {
   "cell_type": "code",
   "execution_count": null,
   "source": [
    "Car = namedtuple('Car', 'color mileage')\r\n",
    "\r\n",
    "class MyCarWithMethods(Car):\r\n",
    "    def hexcolor(self):\r\n",
    "        if self.color == 'red':\r\n",
    "            return '#ff0000'\r\n",
    "        else:\r\n",
    "            return '#000000'\r\n"
   ],
   "outputs": [],
   "metadata": {}
  },
  {
   "cell_type": "markdown",
   "source": [
    "Namedtuple resembles dictionary therefore it's easy to return a dict object with `_asdict()` method."
   ],
   "metadata": {}
  },
  {
   "cell_type": "code",
   "execution_count": null,
   "source": [
    "Car = namedtuple(\"Car\", \"brand mileage color\")\r\n",
    "mycar = Car('tesla', 124556, 'pink')\r\n",
    "mycar._asdict()"
   ],
   "outputs": [],
   "metadata": {}
  }
 ],
 "metadata": {
  "orig_nbformat": 4,
  "language_info": {
   "name": "python",
   "version": "3.9.6",
   "mimetype": "text/x-python",
   "codemirror_mode": {
    "name": "ipython",
    "version": 3
   },
   "pygments_lexer": "ipython3",
   "nbconvert_exporter": "python",
   "file_extension": ".py"
  },
  "kernelspec": {
   "name": "python3",
   "display_name": "Python 3.9.6 64-bit"
  },
  "interpreter": {
   "hash": "d1ae3af205e27dfcf2138a3e341f35afb8a31389c942549ba24941a596005a09"
  }
 },
 "nbformat": 4,
 "nbformat_minor": 2
}