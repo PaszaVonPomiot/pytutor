{
 "cells": [
  {
   "cell_type": "markdown",
   "source": [
    "# Class vs Instance Variable Pitfalls"
   ],
   "metadata": {}
  },
  {
   "cell_type": "markdown",
   "source": [
    "__Class variables__\r\n",
    "are declared inside the class definition (but outside of any instance methods).\r\n",
    "They’re not tied to any particular instance of a class. Instead, class variables store their contents on the class itself,and all objects created from a particular class share access to the same set of class variables.\r\n",
    "\r\n",
    "__Instance variables__\r\n",
    "are always tied to a particular object instance. \r\n",
    "Their contents are not stored on the class, but on each individual object created from the class.\r\n",
    "Therefore, the contents of an instance variable are completely independent from one object instance to the next. And so,modifying an instance variable only affects one object instance at a time."
   ],
   "metadata": {}
  },
  {
   "cell_type": "code",
   "execution_count": 7,
   "source": [
    "class Cat:\r\n",
    "    class_variable = 0\r\n",
    "\r\n",
    "    def __init__(self, instance_variable) -> None:\r\n",
    "        self.instance_variable = instance_variable\r\n",
    "\r\n",
    "\r\n",
    "print(\"creating cat instance from class\")\r\n",
    "cat = Cat(3)\r\n",
    "print(\"cat.instance_variable\", cat.instance_variable)\r\n",
    "print(\"cat.class_variable\", cat.class_variable)\r\n",
    "print(\"cat.__class__.class_variable\", cat.__class__.class_variable)\r\n",
    "print()\r\n",
    "\r\n",
    "print(\"modifying class_variable on class namespace\")\r\n",
    "Cat.class_variable = 1\r\n",
    "\r\n",
    "print(\"cat.instance_variable\", cat.instance_variable)\r\n",
    "print(\"cat.class_variable\", cat.class_variable)\r\n",
    "print(\"cat.__class__.class_variable\", cat.__class__.class_variable)\r\n",
    "print()\r\n",
    "\r\n",
    "print(\"overriding class_variable on instance namespace\")\r\n",
    "cat.class_variable = 2\r\n",
    "\r\n",
    "print(\"cat.instance_variable\", cat.instance_variable)\r\n",
    "print(\"cat.class_variable\", cat.class_variable)\r\n",
    "print(\"cat.__class__.class_variable\", cat.__class__.class_variable)"
   ],
   "outputs": [
    {
     "output_type": "stream",
     "name": "stdout",
     "text": [
      "creating cat instance from class\n",
      "cat.instance_variable 3\n",
      "cat.class_variable 0\n",
      "cat.__class__.class_variable 0\n",
      "\n",
      "modifying class_variable on class namespace\n",
      "cat.instance_variable 3\n",
      "cat.class_variable 1\n",
      "cat.__class__.class_variable 1\n",
      "\n",
      "overriding class_variable on instance namespace\n",
      "cat.instance_variable 3\n",
      "cat.class_variable 2\n",
      "cat.__class__.class_variable 1\n"
     ]
    }
   ],
   "metadata": {}
  },
  {
   "cell_type": "markdown",
   "source": [
    "Example of updating class variable on class namespace. Counting number of instances created from the class."
   ],
   "metadata": {}
  },
  {
   "cell_type": "code",
   "execution_count": 13,
   "source": [
    "class CountedObject:\r\n",
    "    num_instances = 0\r\n",
    "    def __init__(self):\r\n",
    "        self.__class__.num_instances += 1\r\n",
    "\r\n",
    "a = CountedObject()\r\n",
    "b = CountedObject()\r\n",
    "c = CountedObject()\r\n",
    "\r\n",
    "print(CountedObject.num_instances)"
   ],
   "outputs": [
    {
     "output_type": "stream",
     "name": "stdout",
     "text": [
      "3\n"
     ]
    }
   ],
   "metadata": {}
  }
 ],
 "metadata": {
  "orig_nbformat": 4,
  "language_info": {
   "name": "python",
   "version": "3.9.6",
   "mimetype": "text/x-python",
   "codemirror_mode": {
    "name": "ipython",
    "version": 3
   },
   "pygments_lexer": "ipython3",
   "nbconvert_exporter": "python",
   "file_extension": ".py"
  },
  "kernelspec": {
   "name": "python3",
   "display_name": "Python 3.9.6 64-bit"
  },
  "interpreter": {
   "hash": "d1ae3af205e27dfcf2138a3e341f35afb8a31389c942549ba24941a596005a09"
  }
 },
 "nbformat": 4,
 "nbformat_minor": 2
}