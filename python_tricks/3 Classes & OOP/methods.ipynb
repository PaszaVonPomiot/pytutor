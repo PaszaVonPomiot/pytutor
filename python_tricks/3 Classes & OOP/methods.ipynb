{
 "cells": [
  {
   "cell_type": "markdown",
   "source": [
    "# Instance, Class and Static Methods\r\n",
    "Using corrent method clearly communicates intent of the method and limits the scope of what method can access or change."
   ],
   "metadata": {}
  },
  {
   "cell_type": "markdown",
   "source": [
    "## Instance methods\r\n",
    "Default method that accepts `self` as first argument. \r\n",
    "\r\n",
    "`self` points to instance of the class and  allows access to all instance attributes, methods and even parent class (via `self.__class__`).\r\n",
    "\r\n",
    "Instance method can modify instance and class state."
   ],
   "metadata": {}
  },
  {
   "cell_type": "markdown",
   "source": [
    "## Class methods\r\n",
    "Defined with `@classmethod` decorator this method accept `cls` as first argument which points to class instead of instance when the method is called.\r\n",
    "\r\n",
    "Class method can modify class state.\r\n",
    "\r\n",
    "Class methods are good way of creating factory functions."
   ],
   "metadata": {}
  },
  {
   "cell_type": "code",
   "execution_count": 2,
   "source": [
    "class Pizza:\r\n",
    "    def __init__(self, ingredients):\r\n",
    "        self.ingredients = ingredients\r\n",
    "    \r\n",
    "    @classmethod\r\n",
    "    def margherita(cls):\r\n",
    "        return cls(['mozzarella', 'tomatoes'])\r\n",
    "\r\n",
    "p = Pizza.margherita()\r\n",
    "p.ingredients"
   ],
   "outputs": [
    {
     "output_type": "execute_result",
     "data": {
      "text/plain": [
       "['mozzarella', 'tomatoes']"
      ]
     },
     "metadata": {},
     "execution_count": 2
    }
   ],
   "metadata": {}
  },
  {
   "cell_type": "markdown",
   "source": [
    "## Static methods\r\n",
    "Defined with `@staticmethod` decorator this method doesn't accept `self` or `cls` arguments. It is independent of any class or instance variables. It works like a regular function within class namespace.\r\n",
    "\r\n",
    "Static method cannot modify class or instance state."
   ],
   "metadata": {}
  }
 ],
 "metadata": {
  "orig_nbformat": 4,
  "language_info": {
   "name": "python",
   "version": "3.9.6",
   "mimetype": "text/x-python",
   "codemirror_mode": {
    "name": "ipython",
    "version": 3
   },
   "pygments_lexer": "ipython3",
   "nbconvert_exporter": "python",
   "file_extension": ".py"
  },
  "kernelspec": {
   "name": "python3",
   "display_name": "Python 3.9.6 64-bit"
  },
  "interpreter": {
   "hash": "d1ae3af205e27dfcf2138a3e341f35afb8a31389c942549ba24941a596005a09"
  }
 },
 "nbformat": 4,
 "nbformat_minor": 2
}