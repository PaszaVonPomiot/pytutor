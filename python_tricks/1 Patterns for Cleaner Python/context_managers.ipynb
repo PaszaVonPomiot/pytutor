{
 "cells": [
  {
   "cell_type": "markdown",
   "source": [
    "# Context Managers and the `with` Statement"
   ],
   "metadata": {}
  },
  {
   "cell_type": "markdown",
   "source": [
    "The with statement simplifies exception handling by encapsulating standard uses of try/finally statements in so-called context managers. Most commonly it is used to manage the safe acquisition and release of system resources. Resources are acquired by the with statement and released automatically when execution leaves the with context. Using with effectively can help you avoid resource leaks and make your code easier to read.\r\n",
    "\r\n",
    "Useful for connecting to database, opening file, API, etc."
   ],
   "metadata": {}
  },
  {
   "cell_type": "code",
   "execution_count": null,
   "source": [
    "# Class context manager via __enter__ and __exit__ methods\r\n",
    "class ContextManagerEnabledClass:\r\n",
    "    def __init__(self, text):\r\n",
    "        self.text = text\r\n",
    "\r\n",
    "    def __enter__(self):\r\n",
    "        return self.text\r\n",
    "\r\n",
    "    def __exit__(self, exc_type, exc_val, exc_tb):\r\n",
    "        if self.text:\r\n",
    "            self.text = \"exit\"\r\n",
    "            print(self.text)\r\n",
    "\r\n",
    "\r\n",
    "string = ContextManagerEnabledClass(\"enter\")\r\n",
    "\r\n",
    "with string as s:\r\n",
    "    print(s)"
   ],
   "outputs": [],
   "metadata": {}
  },
  {
   "cell_type": "code",
   "execution_count": null,
   "source": [
    "# Second example of class-based context manager\r\n",
    "class ContextManager:\r\n",
    "    def __init__(self):\r\n",
    "        print(\"init method called\")\r\n",
    "\r\n",
    "    def __enter__(self):\r\n",
    "        print(\"enter method called\")\r\n",
    "        return self\r\n",
    "\r\n",
    "    def __exit__(self, exc_type, exc_value, exc_traceback):\r\n",
    "        print(\"exit method called\")\r\n",
    "\r\n",
    "\r\n",
    "with ContextManager() as manager:\r\n",
    "    print(\"with statement block\")"
   ],
   "outputs": [],
   "metadata": {}
  },
  {
   "cell_type": "code",
   "execution_count": null,
   "source": [
    "# Function context manager\r\n",
    "from contextlib import contextmanager\r\n",
    "\r\n",
    "\r\n",
    "@contextmanager\r\n",
    "def ContextManagerFunction():\r\n",
    "    # Before yield as the enter method\r\n",
    "    print(\"Enter method called\")\r\n",
    "    yield\r\n",
    "    # After yield as the exit method\r\n",
    "    print(\"Exit method called\")\r\n",
    "\r\n",
    "\r\n",
    "with ContextManagerFunction() as manager:\r\n",
    "    print(\"with statement block\")"
   ],
   "outputs": [],
   "metadata": {}
  }
 ],
 "metadata": {
  "orig_nbformat": 4,
  "language_info": {
   "name": "python",
   "version": "3.9.6"
  },
  "kernelspec": {
   "name": "python3",
   "display_name": "Python 3.9.6 64-bit"
  },
  "interpreter": {
   "hash": "d1ae3af205e27dfcf2138a3e341f35afb8a31389c942549ba24941a596005a09"
  }
 },
 "nbformat": 4,
 "nbformat_minor": 2
}