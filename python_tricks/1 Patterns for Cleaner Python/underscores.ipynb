{
 "cells": [
  {
   "cell_type": "markdown",
   "source": [
    "# Underscores"
   ],
   "metadata": {}
  },
  {
   "cell_type": "markdown",
   "source": [
    "## Single Leading Underscore: `_var`\r\n",
    "Convention for private object; will not be imported by wildcard import unless specified in `__all__`"
   ],
   "metadata": {}
  },
  {
   "cell_type": "markdown",
   "source": [
    "## Single Trailing Underscore: `var_`\r\n",
    "Convention to avoid naming conflicts"
   ],
   "metadata": {}
  },
  {
   "cell_type": "markdown",
   "source": [
    "## Double Leading Underscore: `__var`\r\n",
    "Python does name mangling which prevents overriding this variable by a subclass"
   ],
   "metadata": {}
  },
  {
   "cell_type": "code",
   "execution_count": null,
   "source": [
    "class Test:\r\n",
    "    def __init__(self):\r\n",
    "        self.__abc = 123\r\n",
    "\r\n",
    "\r\n",
    "class ExtendedTest(Test):\r\n",
    "    def __init__(self):\r\n",
    "        super().__init__()\r\n",
    "        self.__abc = 456\r\n",
    "\r\n",
    "\r\n",
    "t = Test()\r\n",
    "print(dir(t))  # '_Test__abc'"
   ],
   "outputs": [],
   "metadata": {}
  },
  {
   "cell_type": "markdown",
   "source": [
    "## Double Leading and Trailing Underscore: `__var__`\r\n",
    "Dunder methods or magic methods - have special use in language like `__init__` or `__call__`\r\n",
    "Not affected by name mangling."
   ],
   "metadata": {}
  },
  {
   "cell_type": "markdown",
   "source": [
    "## Single Underscore: `_`\r\n",
    "“don’t care” variable that is never used. Eg. in \"for `_` in iterable\" loop\r\n",
    "\r\n",
    "ALSO ONLY IN INTERPRETER REPL SESSION\r\n",
    "```\r\n",
    ">>> _=5\r\n",
    ">>> print(_)\r\n",
    "5\r\n",
    ">>> 3+7\r\n",
    "10\r\n",
    ">>> print(_)\r\n",
    "5\r\n",
    "```"
   ],
   "metadata": {}
  },
  {
   "cell_type": "code",
   "execution_count": null,
   "source": [
    "# unpacking tuple but interested only in mileage\r\n",
    "car = (\"red\", \"auto\", 12, 3812.4)\r\n",
    "_, _, _, mileage = car"
   ],
   "outputs": [],
   "metadata": {}
  }
 ],
 "metadata": {
  "orig_nbformat": 4,
  "language_info": {
   "name": "python",
   "version": "3.9.6"
  },
  "kernelspec": {
   "name": "python3",
   "display_name": "Python 3.9.6 64-bit"
  },
  "interpreter": {
   "hash": "d1ae3af205e27dfcf2138a3e341f35afb8a31389c942549ba24941a596005a09"
  }
 },
 "nbformat": 4,
 "nbformat_minor": 2
}