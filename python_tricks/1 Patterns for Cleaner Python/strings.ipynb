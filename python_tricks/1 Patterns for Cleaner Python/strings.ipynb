{
 "cells": [
  {
   "cell_type": "markdown",
   "source": [
    "# Strings"
   ],
   "metadata": {}
  },
  {
   "cell_type": "code",
   "execution_count": null,
   "source": [
    "name = \"Bob\"\r\n",
    "\r\n",
    "# Old style strings\r\n",
    "\"Hello, %s\" % name\r\n",
    "\r\n",
    "# New style strings\r\n",
    "\"Hello, {}\".format(name)\r\n",
    "\r\n",
    "# f-strings\r\n",
    "f\"Hello, {name}!\"\r\n",
    "\r\n",
    "# Template Strings\r\n",
    "from string import Template\r\n",
    "\r\n",
    "t = Template(\"Hey, $name!\")\r\n",
    "t.substitute(name=name)"
   ],
   "outputs": [],
   "metadata": {}
  }
 ],
 "metadata": {
  "orig_nbformat": 4,
  "language_info": {
   "name": "python",
   "version": "3.9.6"
  },
  "kernelspec": {
   "name": "python3",
   "display_name": "Python 3.9.6 64-bit"
  },
  "interpreter": {
   "hash": "d1ae3af205e27dfcf2138a3e341f35afb8a31389c942549ba24941a596005a09"
  }
 },
 "nbformat": 4,
 "nbformat_minor": 2
}