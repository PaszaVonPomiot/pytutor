{
 "cells": [
  {
   "cell_type": "markdown",
   "source": [
    "# `*args` and `**kwargs`"
   ],
   "metadata": {}
  },
  {
   "cell_type": "markdown",
   "source": [
    "`*` and `**` in definition means packing\r\n",
    "`*` and `**` in function call means unpacking"
   ],
   "metadata": {}
  },
  {
   "cell_type": "code",
   "execution_count": null,
   "source": [
    "def foo(required, *args, **kwargs):\r\n",
    "    print(required)\r\n",
    "    if args:  # tuple\r\n",
    "        print(args)\r\n",
    "    if kwargs:  # dict\r\n",
    "        print(kwargs)"
   ],
   "outputs": [],
   "metadata": {}
  },
  {
   "cell_type": "markdown",
   "source": [
    "packed arguments can be changed before passing them along"
   ],
   "metadata": {}
  },
  {
   "cell_type": "code",
   "execution_count": null,
   "source": [
    "def foo(x, *args, **kwargs):\r\n",
    "    kwargs[\"name\"] = \"Alice\"\r\n",
    "    new_args = args + (\"extra\",)\r\n",
    "    bar(x, *new_args, **kwargs)"
   ],
   "outputs": [],
   "metadata": {}
  },
  {
   "cell_type": "markdown",
   "source": [
    "Eg. extending parent class `__init__`"
   ],
   "metadata": {}
  },
  {
   "cell_type": "code",
   "execution_count": null,
   "source": [
    "class Car:\r\n",
    "    def __init__(self, color, mileage):\r\n",
    "        self.color = color\r\n",
    "        self.mileage = mileage\r\n",
    "\r\n",
    "\r\n",
    "class AlwaysBlueCar(Car):\r\n",
    "    def __init__(self, *args, **kwargs):\r\n",
    "        super().__init__(*args, **kwargs)  # simply pass args\r\n",
    "        self.color = \"blue\"  # override color attribute"
   ],
   "outputs": [],
   "metadata": {}
  }
 ],
 "metadata": {
  "orig_nbformat": 4,
  "language_info": {
   "name": "python",
   "version": "3.9.6"
  },
  "kernelspec": {
   "name": "python3",
   "display_name": "Python 3.9.6 64-bit"
  },
  "interpreter": {
   "hash": "d1ae3af205e27dfcf2138a3e341f35afb8a31389c942549ba24941a596005a09"
  }
 },
 "nbformat": 4,
 "nbformat_minor": 2
}