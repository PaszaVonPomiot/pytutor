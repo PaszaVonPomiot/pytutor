{
 "cells": [
  {
   "cell_type": "markdown",
   "source": [
    "Decorator is a callable that takes a callable as input and returns another callable\r\n",
    "Callable - eg. function, class, method\r\n",
    "\r\n",
    "using decorator explicitly - decorates callable call\r\n",
    "you need to use decorator for each function call"
   ],
   "metadata": {}
  },
  {
   "cell_type": "code",
   "execution_count": null,
   "source": [
    "def null_decorator(func):\r\n",
    "    return func\r\n",
    "\r\n",
    "def greet():\r\n",
    "    return \"Hello!\"\r\n",
    "\r\n",
    "null_decorator(greet())"
   ],
   "outputs": [],
   "metadata": {}
  },
  {
   "cell_type": "markdown",
   "source": [
    "using @ syntax - decorates callable definition\r\n",
    "causes function to be decorated without modifying original function; original is not available\r\n"
   ],
   "metadata": {}
  },
  {
   "cell_type": "code",
   "execution_count": null,
   "source": [
    "@null_decorator\r\n",
    "def greet():\r\n",
    "    return \"Hello!\"\r\n",
    "\r\n",
    "greet()"
   ],
   "outputs": [],
   "metadata": {}
  },
  {
   "cell_type": "markdown",
   "source": [
    "Actual decorator function\r\n",
    "Returns wrapper function which is a closure (inner function that has access to outer function argument, after outer function has ended)\r\n",
    "Closure uses func from argument and modifies its result"
   ],
   "metadata": {}
  },
  {
   "cell_type": "code",
   "execution_count": null,
   "source": [
    "def uppercase(func):\r\n",
    "    def wrapper():\r\n",
    "        original_result = func()\r\n",
    "        modified_result = original_result.upper()\r\n",
    "        return modified_result\r\n",
    "\r\n",
    "    return wrapper  # returns function\r\n",
    "\r\n",
    "@uppercase\r\n",
    "def greet():\r\n",
    "    return \"Hello!\"\r\n",
    "\r\n",
    "greet()"
   ],
   "outputs": [],
   "metadata": {}
  },
  {
   "cell_type": "markdown",
   "source": [
    "Decorator stacking - applied from bottom to the top"
   ],
   "metadata": {}
  },
  {
   "cell_type": "code",
   "execution_count": null,
   "source": [
    "@decor2\r\n",
    "@decor1\r\n",
    "def greet():\r\n",
    "    return \"Hello!\"\r\n",
    "\r\n",
    "\r\n",
    "# Is equivalent to\r\n",
    "decor2(decor1(greet))"
   ],
   "outputs": [],
   "metadata": {}
  },
  {
   "cell_type": "markdown",
   "source": [
    "Decorating Functions That Accept Arguments"
   ],
   "metadata": {}
  },
  {
   "cell_type": "code",
   "execution_count": null,
   "source": [
    "def proxy(func):\r\n",
    "    def wrapper(*args, **kwargs):  # COLLECTS positional and keyword arguments from func\r\n",
    "        result = func(*args, **kwargs)\r\n",
    "        result.append(\"trzy\")\r\n",
    "        return result  # UNPACKING - forwards arguments to original function\r\n",
    "\r\n",
    "    return wrapper\r\n",
    "\r\n",
    "\r\n",
    "@proxy\r\n",
    "def licz(word1, word2):\r\n",
    "    return [word1, word2]\r\n",
    "\r\n",
    "\r\n",
    "licz(\"raz\", \"dwa\")"
   ],
   "outputs": [],
   "metadata": {}
  },
  {
   "cell_type": "markdown",
   "source": [
    "Decorators replace one function with another thus remove some metadata like original docstring\r\n",
    "To solve this always copy metadata from original function using functools.wraps\r\n",
    "This helps debugging"
   ],
   "metadata": {}
  },
  {
   "cell_type": "code",
   "execution_count": null,
   "source": [
    "def proxy(func):\r\n",
    "    @functools.wraps(func)\r\n",
    "    def wrapper(*args, **kwargs):  # COLLECTS positional and keyword arguments from func\r\n",
    "        result = func(*args, **kwargs)\r\n",
    "        result.append(\"trzy\")\r\n",
    "        return result  # UNPACKING - forwards arguments to original function\r\n",
    "\r\n",
    "    return wrapper"
   ],
   "outputs": [],
   "metadata": {}
  },
  {
   "cell_type": "markdown",
   "source": [
    "Topics not covered:\r\n",
    "- Decorator that accepts argments\r\n",
    "- Decorator as a class"
   ],
   "metadata": {}
  }
 ],
 "metadata": {
  "orig_nbformat": 4,
  "language_info": {
   "name": "python",
   "version": "3.9.6"
  },
  "kernelspec": {
   "name": "python3",
   "display_name": "Python 3.9.6 64-bit"
  },
  "interpreter": {
   "hash": "d1ae3af205e27dfcf2138a3e341f35afb8a31389c942549ba24941a596005a09"
  }
 },
 "nbformat": 4,
 "nbformat_minor": 2
}