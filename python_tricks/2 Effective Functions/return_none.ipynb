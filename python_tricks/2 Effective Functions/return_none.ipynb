{
 "cells": [
  {
   "cell_type": "markdown",
   "source": [
    "# Nothing to Return"
   ],
   "metadata": {}
  },
  {
   "cell_type": "markdown",
   "source": [
    "If not explicitly defined, all functions return `None`\r\n",
    "If function doesn't have return value don't write explicit return `None` unless it helps readability"
   ],
   "metadata": {}
  },
  {
   "cell_type": "code",
   "execution_count": null,
   "source": [
    "def foo1(value):\r\n",
    "    if value:\r\n",
    "        return value\r\n",
    "    else:\r\n",
    "        return None"
   ],
   "outputs": [],
   "metadata": {}
  },
  {
   "cell_type": "code",
   "execution_count": null,
   "source": [
    "def foo2(value):\r\n",
    "    \"\"\"Bare return statement implies `return None`\"\"\"\r\n",
    "    if value:\r\n",
    "        return value\r\n",
    "    else:\r\n",
    "        return"
   ],
   "outputs": [],
   "metadata": {}
  },
  {
   "cell_type": "code",
   "execution_count": null,
   "source": [
    "def foo3(value):\r\n",
    "    \"\"\"Missing return statement implies `return None`\"\"\"\r\n",
    "    if value:\r\n",
    "        return value"
   ],
   "outputs": [],
   "metadata": {}
  }
 ],
 "metadata": {
  "orig_nbformat": 4,
  "language_info": {
   "name": "python",
   "version": "3.9.6"
  },
  "kernelspec": {
   "name": "python3",
   "display_name": "Python 3.9.6 64-bit"
  },
  "interpreter": {
   "hash": "d1ae3af205e27dfcf2138a3e341f35afb8a31389c942549ba24941a596005a09"
  }
 },
 "nbformat": 4,
 "nbformat_minor": 2
}