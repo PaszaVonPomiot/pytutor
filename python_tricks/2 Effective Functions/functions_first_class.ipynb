{
 "cells": [
  {
   "cell_type": "code",
   "execution_count": null,
   "source": [
    "def yell(text):\r\n",
    "    return text.upper() + \"!\""
   ],
   "outputs": [],
   "metadata": {}
  },
  {
   "cell_type": "markdown",
   "source": [
    "Functions Are Objects\r\n",
    "\r\n",
    "A variable pointing to a function\r\n",
    "and the function itself are really two separate concerns."
   ],
   "metadata": {}
  },
  {
   "cell_type": "code",
   "execution_count": null,
   "source": [
    "bark = yell\r\n",
    "del yell\r\n",
    "bark(\"woof\")  # still works\r\n",
    "bark.__name__  # name of the function"
   ],
   "outputs": [],
   "metadata": {}
  },
  {
   "cell_type": "markdown",
   "source": [
    "Functions Can Be Stored in Data Structures"
   ],
   "metadata": {}
  },
  {
   "cell_type": "code",
   "execution_count": null,
   "source": [
    "funcs = [bark, str.lower, str.capitalize]"
   ],
   "outputs": [],
   "metadata": {}
  },
  {
   "cell_type": "markdown",
   "source": [
    "Functions Can Be Passed to Other Functions\r\n",
    "Functions that can accept other functions as arguments are called higher-order functions"
   ],
   "metadata": {}
  },
  {
   "cell_type": "code",
   "execution_count": null,
   "source": [
    "def greet(func):\r\n",
    "    greeting = func(\"Hi, I am a Python program\")\r\n",
    "    print(greeting)\r\n",
    "\r\n",
    "\r\n",
    "greet(bark)\r\n",
    "\r\n",
    "# map(function, iterable) is higher-order function\r\n",
    "# use comprehensions instead of map if possible\r\n",
    "list(map(bark, [\"hello\", \"hey\", \"hi\"]))"
   ],
   "outputs": [],
   "metadata": {}
  },
  {
   "cell_type": "markdown",
   "source": [
    "Functions Can Be Nested\r\n",
    "\r\n",
    "These are often called nested functions or inner functions\r\n",
    "\r\n",
    "Inner functions are not accessible from outside the function but you can return them"
   ],
   "metadata": {}
  },
  {
   "cell_type": "code",
   "execution_count": null,
   "source": [
    "def speak(volume):\r\n",
    "    def whisper(text):\r\n",
    "        return text.lower()\r\n",
    "\r\n",
    "    def shout(text):\r\n",
    "        return text.upper()\r\n",
    "\r\n",
    "    if volume < 5:\r\n",
    "        return whisper\r\n",
    "    else:\r\n",
    "        return shout\r\n",
    "\r\n",
    "\r\n",
    "speak(4)(\"ahaaaa\")\r\n",
    "speak(6)(\"ahaaaa\")"
   ],
   "outputs": [],
   "metadata": {}
  },
  {
   "cell_type": "markdown",
   "source": [
    "Functions Can Capture Local State\r\n",
    "\r\n",
    "Closure is a nested function which has access to a free variable from an enclosing function that has finished its execution. \r\n",
    "\r\n",
    "A free variable is a variable that is not bound in the local scope."
   ],
   "metadata": {}
  },
  {
   "cell_type": "code",
   "execution_count": null,
   "source": [
    "def make_adder(n):\r\n",
    "    def add(x):\r\n",
    "        return x + n\r\n",
    "\r\n",
    "    return add\r\n",
    "\r\n",
    "\r\n",
    "fu = make_adder(2)  # fu still has access to n even after parent function has ended\r\n",
    "fu(3)"
   ],
   "outputs": [],
   "metadata": {}
  },
  {
   "cell_type": "code",
   "execution_count": null,
   "source": [
    "def get_speak_func(volume, text):\r\n",
    "    # Inner function without argument captures and returns parent function argument\r\n",
    "    def whisper():\r\n",
    "        return (\r\n",
    "            text.lower() + \"...\"\r\n",
    "        )  # has access to free variable after parent function has finished its execution\r\n",
    "\r\n",
    "    def yell():\r\n",
    "        return text.upper() + \"!\"\r\n",
    "\r\n",
    "    if volume > 0.5:\r\n",
    "        return yell\r\n",
    "    else:\r\n",
    "        return whisper\r\n",
    "\r\n",
    "\r\n",
    "get_speak_func(3, \"ahaaaaaa\")()"
   ],
   "outputs": [],
   "metadata": {}
  },
  {
   "cell_type": "markdown",
   "source": [
    "Objects Can Behave Like Functions by defining `__call__` method"
   ],
   "metadata": {}
  },
  {
   "cell_type": "code",
   "execution_count": null,
   "source": [
    "class SimpleClass:\r\n",
    "    pass\r\n",
    "\r\n",
    "\r\n",
    "callable(SimpleClass)  # is class callable\r\n",
    "callable(SimpleClass())  # is instance callable\r\n",
    "\r\n",
    "\r\n",
    "class SimpleClass:\r\n",
    "    def __call__(self):\r\n",
    "        print(\"Im a function\")\r\n",
    "\r\n",
    "\r\n",
    "callable(SimpleClass)  # is class callable\r\n",
    "callable(SimpleClass())  # is instance callable\r\n",
    "\r\n",
    "# to check if callable\r\n",
    "callable(1)\r\n",
    "callable(1.2)\r\n",
    "callable(\"text\")\r\n",
    "callable([])\r\n",
    "callable(object)"
   ],
   "outputs": [],
   "metadata": {}
  }
 ],
 "metadata": {
  "orig_nbformat": 4,
  "language_info": {
   "name": "python",
   "version": "3.9.6"
  },
  "kernelspec": {
   "name": "python3",
   "display_name": "Python 3.9.6 64-bit"
  },
  "interpreter": {
   "hash": "d1ae3af205e27dfcf2138a3e341f35afb8a31389c942549ba24941a596005a09"
  }
 },
 "nbformat": 4,
 "nbformat_minor": 2
}