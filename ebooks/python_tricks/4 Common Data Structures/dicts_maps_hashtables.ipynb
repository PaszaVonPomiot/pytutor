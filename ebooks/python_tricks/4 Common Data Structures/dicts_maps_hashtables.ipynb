{
 "cells": [
  {
   "cell_type": "markdown",
   "source": [
    "# Dictionaries, Maps, and Hashtables"
   ],
   "metadata": {}
  },
  {
   "cell_type": "markdown",
   "source": [
    "## collections.OrderedDict\r\n",
    "Remembers the insertion order of keys added to it. Standard `dict()` also remembers order but only for Python >= 3.6"
   ],
   "metadata": {}
  },
  {
   "cell_type": "code",
   "execution_count": 1,
   "source": [
    "from collections import OrderedDict\r\n",
    "\r\n",
    "od = OrderedDict(one=1, two=2, three=3)\r\n",
    "od.keys()"
   ],
   "outputs": [
    {
     "output_type": "execute_result",
     "data": {
      "text/plain": [
       "odict_keys(['one', 'two', 'three'])"
      ]
     },
     "metadata": {},
     "execution_count": 1
    }
   ],
   "metadata": {}
  },
  {
   "cell_type": "markdown",
   "source": [
    "## collections.defaultdict\r\n",
    "\r\n",
    "Syntax: `defaultdict(default_factory)`\r\n",
    "\r\n",
    "Uses factory function as a default value instead of throwing `KeyError`\r\n"
   ],
   "metadata": {}
  },
  {
   "cell_type": "code",
   "execution_count": 9,
   "source": [
    "from collections import defaultdict\r\n",
    "\r\n",
    "def def_value():\r\n",
    "    return \"zero\"\r\n",
    "\r\n",
    "dd = defaultdict(def_value)\r\n",
    "dd[\"test\"]\r\n"
   ],
   "outputs": [
    {
     "output_type": "execute_result",
     "data": {
      "text/plain": [
       "'zero'"
      ]
     },
     "metadata": {},
     "execution_count": 9
    }
   ],
   "metadata": {}
  },
  {
   "cell_type": "code",
   "execution_count": 11,
   "source": [
    "from collections import defaultdict\r\n",
    "\r\n",
    "dd = defaultdict(lambda: \"minus\")\r\n",
    "dd[\"test\"]"
   ],
   "outputs": [
    {
     "output_type": "execute_result",
     "data": {
      "text/plain": [
       "'minus'"
      ]
     },
     "metadata": {},
     "execution_count": 11
    }
   ],
   "metadata": {}
  },
  {
   "cell_type": "code",
   "execution_count": 12,
   "source": [
    "from collections import defaultdict\r\n",
    "\r\n",
    "dd = defaultdict(int)\r\n",
    "dd[\"test\"]"
   ],
   "outputs": [
    {
     "output_type": "execute_result",
     "data": {
      "text/plain": [
       "0"
      ]
     },
     "metadata": {},
     "execution_count": 12
    }
   ],
   "metadata": {}
  },
  {
   "cell_type": "markdown",
   "source": [
    "## collections.ChainMap\r\n",
    "Groups multiple dictionaries. Allows searching through all of them at the same time."
   ],
   "metadata": {}
  },
  {
   "cell_type": "code",
   "execution_count": 14,
   "source": [
    "from collections import ChainMap\r\n",
    "\r\n",
    "dict1 = {'one': 1, 'two': 2}\r\n",
    "dict2 = {'three': 3, 'four': 4}\r\n",
    "chain = ChainMap(dict1, dict2)\r\n",
    "\r\n",
    "chain['three']"
   ],
   "outputs": [
    {
     "output_type": "execute_result",
     "data": {
      "text/plain": [
       "3"
      ]
     },
     "metadata": {},
     "execution_count": 14
    }
   ],
   "metadata": {}
  },
  {
   "cell_type": "markdown",
   "source": [
    "## types.MappingProxyType\r\n",
    "Provides read-only view of standard dictionary without copying it."
   ],
   "metadata": {}
  },
  {
   "cell_type": "code",
   "execution_count": 16,
   "source": [
    "from types import MappingProxyType\r\n",
    "\r\n",
    "writable = {'one': 1, 'two': 2}\r\n",
    "read_only = MappingProxyType(writable)\r\n",
    "print(read_only['one'])\r\n",
    "read_only['one'] = 23"
   ],
   "outputs": [
    {
     "output_type": "stream",
     "name": "stdout",
     "text": [
      "1\n"
     ]
    },
    {
     "output_type": "error",
     "ename": "TypeError",
     "evalue": "'mappingproxy' object does not support item assignment",
     "traceback": [
      "\u001b[1;31m---------------------------------------------------------------------------\u001b[0m",
      "\u001b[1;31mTypeError\u001b[0m                                 Traceback (most recent call last)",
      "\u001b[1;32m~\\AppData\\Local\\Temp/ipykernel_8948/1864855589.py\u001b[0m in \u001b[0;36m<module>\u001b[1;34m\u001b[0m\n\u001b[0;32m      4\u001b[0m \u001b[0mread_only\u001b[0m \u001b[1;33m=\u001b[0m \u001b[0mMappingProxyType\u001b[0m\u001b[1;33m(\u001b[0m\u001b[0mwritable\u001b[0m\u001b[1;33m)\u001b[0m\u001b[1;33m\u001b[0m\u001b[1;33m\u001b[0m\u001b[0m\n\u001b[0;32m      5\u001b[0m \u001b[0mprint\u001b[0m\u001b[1;33m(\u001b[0m\u001b[0mread_only\u001b[0m\u001b[1;33m[\u001b[0m\u001b[1;34m'one'\u001b[0m\u001b[1;33m]\u001b[0m\u001b[1;33m)\u001b[0m\u001b[1;33m\u001b[0m\u001b[1;33m\u001b[0m\u001b[0m\n\u001b[1;32m----> 6\u001b[1;33m \u001b[0mread_only\u001b[0m\u001b[1;33m[\u001b[0m\u001b[1;34m'one'\u001b[0m\u001b[1;33m]\u001b[0m \u001b[1;33m=\u001b[0m \u001b[1;36m23\u001b[0m\u001b[1;33m\u001b[0m\u001b[1;33m\u001b[0m\u001b[0m\n\u001b[0m",
      "\u001b[1;31mTypeError\u001b[0m: 'mappingproxy' object does not support item assignment"
     ]
    }
   ],
   "metadata": {}
  }
 ],
 "metadata": {
  "orig_nbformat": 4,
  "language_info": {
   "name": "python",
   "version": "3.9.6",
   "mimetype": "text/x-python",
   "codemirror_mode": {
    "name": "ipython",
    "version": 3
   },
   "pygments_lexer": "ipython3",
   "nbconvert_exporter": "python",
   "file_extension": ".py"
  },
  "kernelspec": {
   "name": "python3",
   "display_name": "Python 3.9.6 64-bit"
  },
  "interpreter": {
   "hash": "d1ae3af205e27dfcf2138a3e341f35afb8a31389c942549ba24941a596005a09"
  }
 },
 "nbformat": 4,
 "nbformat_minor": 2
}