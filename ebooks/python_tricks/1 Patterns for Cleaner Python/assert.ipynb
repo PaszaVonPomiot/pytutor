{
 "cells": [
  {
   "cell_type": "markdown",
   "metadata": {},
   "source": [
    "# Covering Your A** With Assertions\n",
    "\n",
    "Python’s `assert` statement is a debugging aid that tests a condition as an internal self-check in your program.\n",
    "Asserts should only be used to help developers identify bugs.\n",
    "They’re not a mechanism for handling run-time errors.\n",
    "Asserts can be globally disabled with an interpreter setting.\n",
    "\n",
    "Use only for unrecoverable errors and for debug purposes, not as main app logic.\n",
    "Assert works only if global variable `__debug__ = True`.\n",
    "Assert is skipped for `-O`, `-OO` switches or `PYTHONOPTIMIZE` env variable.\n",
    "\n",
    "Don't used `assert` for code that should never be skipped."
   ]
  },
  {
   "cell_type": "code",
   "execution_count": null,
   "metadata": {},
   "outputs": [],
   "source": [
    "assert 1 > 2, \"AssertionError: should show up\""
   ]
  }
 ],
 "metadata": {
  "interpreter": {
   "hash": "d1ae3af205e27dfcf2138a3e341f35afb8a31389c942549ba24941a596005a09"
  },
  "kernelspec": {
   "display_name": "Python 3.9.6 64-bit",
   "name": "python3"
  },
  "language_info": {
   "codemirror_mode": {
    "name": "ipython",
    "version": 3
   },
   "file_extension": ".py",
   "mimetype": "text/x-python",
   "name": "python",
   "nbconvert_exporter": "python",
   "pygments_lexer": "ipython3",
   "version": "3.9.6"
  },
  "orig_nbformat": 4
 },
 "nbformat": 4,
 "nbformat_minor": 2
}
