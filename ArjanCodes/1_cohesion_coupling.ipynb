{
 "cells": [
  {
   "cell_type": "markdown",
   "source": [
    "# Cohesion and coupling\r\n",
    "are good software quality metrics\r\n",
    "\r\n",
    "Tight cohesion and loose coupling indicates high software quality\r\n",
    "Cohesion refers to the degree to which the elements inside a module belong together\r\n",
    "The SRP (Single Responsiblity Principle) will lead to cohesive module\r\n",
    "Cohesion refers to how closely all the routines in a class or all the code in a routine support a central purpose. \r\n",
    "Classes that contain strongly related functionality are described as having strong cohesion\r\n"
   ],
   "metadata": {}
  },
  {
   "cell_type": "code",
   "execution_count": null,
   "source": [
    "def do_things(a, b, c):\r\n",
    "    \"\"\"Loose cohesion - function tries to do many things\"\"\"\r\n",
    "    s = a + b\r\n",
    "    status = s + c\r\n",
    "    display_something(s)\r\n",
    "    print(status)"
   ],
   "outputs": [],
   "metadata": {}
  },
  {
   "cell_type": "code",
   "execution_count": 3,
   "source": [
    "def sum_things(a, b):\r\n",
    "    \"\"\"Tight cohesion - function tries to do one thing only\"\"\"\r\n",
    "    s = a + b"
   ],
   "outputs": [],
   "metadata": {}
  },
  {
   "cell_type": "markdown",
   "source": [
    "Сoupling is the degree of interdependence between software modules a measure of how сlosely connected two routines or modules are the strength of the relationships between modules"
   ],
   "metadata": {}
  },
  {
   "cell_type": "code",
   "execution_count": null,
   "source": [
    "def check_email(email):\r\n",
    "    ''' Tight coupling - function accesses data that is deep in the object structure; problematic when email object changes structure '''\r\n",
    "    if email.header.bearer.invalid():\r\n",
    "        raise Exception\r\n",
    "    if email.header.received:\r\n",
    "        raise Exception"
   ],
   "outputs": [],
   "metadata": {}
  },
  {
   "cell_type": "markdown",
   "source": [
    "Solution 1 - pass only the data that function needs"
   ],
   "metadata": {}
  },
  {
   "cell_type": "code",
   "execution_count": null,
   "source": [
    "def check_email2(is_invalid, received):\r\n",
    "    ''' data directly as parameters '''\r\n",
    "    if is_invalid:\r\n",
    "        raise Exception\r\n",
    "    if received:\r\n",
    "        raise Exception"
   ],
   "outputs": [],
   "metadata": {}
  },
  {
   "cell_type": "markdown",
   "source": [
    "Solution 2 - move this function to email object"
   ],
   "metadata": {}
  },
  {
   "cell_type": "code",
   "execution_count": null,
   "source": [
    "class Email:\r\n",
    "    def check_email(self, ...)\r\n",
    "        if self.header.received:\r\n",
    "            raise Exception"
   ],
   "outputs": [],
   "metadata": {}
  }
 ],
 "metadata": {
  "orig_nbformat": 4,
  "language_info": {
   "name": "python",
   "version": "3.9.6",
   "mimetype": "text/x-python",
   "codemirror_mode": {
    "name": "ipython",
    "version": 3
   },
   "pygments_lexer": "ipython3",
   "nbconvert_exporter": "python",
   "file_extension": ".py"
  },
  "kernelspec": {
   "name": "python3",
   "display_name": "Python 3.9.6 64-bit"
  },
  "interpreter": {
   "hash": "d1ae3af205e27dfcf2138a3e341f35afb8a31389c942549ba24941a596005a09"
  }
 },
 "nbformat": 4,
 "nbformat_minor": 2
}